{
 "cells": [
  {
   "cell_type": "markdown",
   "metadata": {},
   "source": [
    "## Проект по приоритизации гипотез, запуску A/B-теста и анализа его результатов."
   ]
  },
  {
   "cell_type": "markdown",
   "metadata": {},
   "source": [
    "<div class=\"alert alert-block alert-info\">\n",
    "<h2> Цель проекта и план выполения <a class=\"tocSkip\"> </h2>\n",
    "\n",
    "В качестве аналитика крупного интернет-магазина, необходимо приоретизировать гипотезы и проанализировать результаты А/B-теста  \n",
    "    \n",
    "* Для решения первой задачи по приоретизации гипотез загрузим данные о гипотезах, применим фрейворки ICE и RICE, затем сравним полученные данные.  \n",
    "* Для решения второй задачи по анализу результатов А/B-теста, загрузим соответствующие данные о визитах и заказах.  \n",
    "Затем с помощью графиков и процентилей сделаем выводы о результатах теста.  \n",
    "* На следующем этапе посчитаем статистическую значимость различий по конверсии и среднему чеку между группами как на \"сырых\",  так и на \"очищенных\" данных\n",
    "    \n",
    "* По результатам проведенного анализа примем решение в отношении проведенного теста.    \n",
    "    \n",
    "\n",
    "</div>"
   ]
  },
  {
   "cell_type": "code",
   "execution_count": 1,
   "metadata": {},
   "outputs": [],
   "source": [
    "import pandas as pd\n",
    "import numpy as np\n",
    "import matplotlib.pyplot as plt\n",
    "import plotly.express as px"
   ]
  },
  {
   "cell_type": "code",
   "execution_count": 2,
   "metadata": {},
   "outputs": [],
   "source": [
    "try:\n",
    "    visitors = pd.read_csv('C:/Users/Lenovo/Downloads/visitors.csv')\n",
    "    orders = pd.read_csv('C:/Users/Lenovo/Downloads/orders.csv')\n",
    "    data = pd.read_csv('C:/Users/Lenovo/Downloads/hypothesis.csv')\n",
    "    \n",
    "except:\n",
    "    visitors = pd.read_csv('/datasets/visitors.csv')\n",
    "    orders = pd.read_csv('/datasets/orders.csv')\n",
    "    data = pd.read_csv('/datasets/hypothesis.csv')"
   ]
  },
  {
   "cell_type": "markdown",
   "metadata": {},
   "source": [
    "### Часть 1. Приоритизация гипотез."
   ]
  },
  {
   "cell_type": "markdown",
   "metadata": {},
   "source": [
    "* Изучим данные о гипотезах"
   ]
  },
  {
   "cell_type": "code",
   "execution_count": 3,
   "metadata": {},
   "outputs": [],
   "source": [
    "pd.set_option(\"max_colwidth\", 200)"
   ]
  },
  {
   "cell_type": "code",
   "execution_count": 4,
   "metadata": {},
   "outputs": [
    {
     "data": {
      "text/html": [
       "<div>\n",
       "<style scoped>\n",
       "    .dataframe tbody tr th:only-of-type {\n",
       "        vertical-align: middle;\n",
       "    }\n",
       "\n",
       "    .dataframe tbody tr th {\n",
       "        vertical-align: top;\n",
       "    }\n",
       "\n",
       "    .dataframe thead th {\n",
       "        text-align: right;\n",
       "    }\n",
       "</style>\n",
       "<table border=\"1\" class=\"dataframe\">\n",
       "  <thead>\n",
       "    <tr style=\"text-align: right;\">\n",
       "      <th></th>\n",
       "      <th>Hypothesis</th>\n",
       "      <th>Reach</th>\n",
       "      <th>Impact</th>\n",
       "      <th>Confidence</th>\n",
       "      <th>Efforts</th>\n",
       "    </tr>\n",
       "  </thead>\n",
       "  <tbody>\n",
       "    <tr>\n",
       "      <td>0</td>\n",
       "      <td>Добавить два новых канала привлечения трафика, что позволит привлекать на 30% больше пользователей</td>\n",
       "      <td>3</td>\n",
       "      <td>10</td>\n",
       "      <td>8</td>\n",
       "      <td>6</td>\n",
       "    </tr>\n",
       "    <tr>\n",
       "      <td>1</td>\n",
       "      <td>Запустить собственную службу доставки, что сократит срок доставки заказов</td>\n",
       "      <td>2</td>\n",
       "      <td>5</td>\n",
       "      <td>4</td>\n",
       "      <td>10</td>\n",
       "    </tr>\n",
       "    <tr>\n",
       "      <td>2</td>\n",
       "      <td>Добавить блоки рекомендаций товаров на сайт интернет магазина, чтобы повысить конверсию и средний чек заказа</td>\n",
       "      <td>8</td>\n",
       "      <td>3</td>\n",
       "      <td>7</td>\n",
       "      <td>3</td>\n",
       "    </tr>\n",
       "    <tr>\n",
       "      <td>3</td>\n",
       "      <td>Изменить структура категорий, что увеличит конверсию, т.к. пользователи быстрее найдут нужный товар</td>\n",
       "      <td>8</td>\n",
       "      <td>3</td>\n",
       "      <td>3</td>\n",
       "      <td>8</td>\n",
       "    </tr>\n",
       "    <tr>\n",
       "      <td>4</td>\n",
       "      <td>Изменить цвет фона главной страницы, чтобы увеличить вовлеченность пользователей</td>\n",
       "      <td>3</td>\n",
       "      <td>1</td>\n",
       "      <td>1</td>\n",
       "      <td>1</td>\n",
       "    </tr>\n",
       "    <tr>\n",
       "      <td>5</td>\n",
       "      <td>Добавить страницу отзывов клиентов о магазине, что позволит увеличить количество заказов</td>\n",
       "      <td>3</td>\n",
       "      <td>2</td>\n",
       "      <td>2</td>\n",
       "      <td>3</td>\n",
       "    </tr>\n",
       "    <tr>\n",
       "      <td>6</td>\n",
       "      <td>Показать на главной странице баннеры с актуальными акциями и распродажами, чтобы увеличить конверсию</td>\n",
       "      <td>5</td>\n",
       "      <td>3</td>\n",
       "      <td>8</td>\n",
       "      <td>3</td>\n",
       "    </tr>\n",
       "    <tr>\n",
       "      <td>7</td>\n",
       "      <td>Добавить форму подписки на все основные страницы, чтобы собрать базу клиентов для email-рассылок</td>\n",
       "      <td>10</td>\n",
       "      <td>7</td>\n",
       "      <td>8</td>\n",
       "      <td>5</td>\n",
       "    </tr>\n",
       "    <tr>\n",
       "      <td>8</td>\n",
       "      <td>Запустить акцию, дающую скидку на товар в день рождения</td>\n",
       "      <td>1</td>\n",
       "      <td>9</td>\n",
       "      <td>9</td>\n",
       "      <td>5</td>\n",
       "    </tr>\n",
       "  </tbody>\n",
       "</table>\n",
       "</div>"
      ],
      "text/plain": [
       "                                                                                                     Hypothesis  \\\n",
       "0            Добавить два новых канала привлечения трафика, что позволит привлекать на 30% больше пользователей   \n",
       "1                                     Запустить собственную службу доставки, что сократит срок доставки заказов   \n",
       "2  Добавить блоки рекомендаций товаров на сайт интернет магазина, чтобы повысить конверсию и средний чек заказа   \n",
       "3           Изменить структура категорий, что увеличит конверсию, т.к. пользователи быстрее найдут нужный товар   \n",
       "4                              Изменить цвет фона главной страницы, чтобы увеличить вовлеченность пользователей   \n",
       "5                      Добавить страницу отзывов клиентов о магазине, что позволит увеличить количество заказов   \n",
       "6          Показать на главной странице баннеры с актуальными акциями и распродажами, чтобы увеличить конверсию   \n",
       "7              Добавить форму подписки на все основные страницы, чтобы собрать базу клиентов для email-рассылок   \n",
       "8                                                       Запустить акцию, дающую скидку на товар в день рождения   \n",
       "\n",
       "   Reach  Impact  Confidence  Efforts  \n",
       "0      3      10           8        6  \n",
       "1      2       5           4       10  \n",
       "2      8       3           7        3  \n",
       "3      8       3           3        8  \n",
       "4      3       1           1        1  \n",
       "5      3       2           2        3  \n",
       "6      5       3           8        3  \n",
       "7     10       7           8        5  \n",
       "8      1       9           9        5  "
      ]
     },
     "execution_count": 4,
     "metadata": {},
     "output_type": "execute_result"
    }
   ],
   "source": [
    "data"
   ]
  },
  {
   "cell_type": "code",
   "execution_count": 5,
   "metadata": {},
   "outputs": [],
   "source": [
    "data.columns = data.columns.str.lower()"
   ]
  },
  {
   "cell_type": "code",
   "execution_count": 6,
   "metadata": {},
   "outputs": [],
   "source": [
    "data['ICE'] = (data['impact'] * data['confidence']) / data['efforts']"
   ]
  },
  {
   "cell_type": "code",
   "execution_count": 7,
   "metadata": {},
   "outputs": [
    {
     "data": {
      "text/html": [
       "<div>\n",
       "<style scoped>\n",
       "    .dataframe tbody tr th:only-of-type {\n",
       "        vertical-align: middle;\n",
       "    }\n",
       "\n",
       "    .dataframe tbody tr th {\n",
       "        vertical-align: top;\n",
       "    }\n",
       "\n",
       "    .dataframe thead th {\n",
       "        text-align: right;\n",
       "    }\n",
       "</style>\n",
       "<table border=\"1\" class=\"dataframe\">\n",
       "  <thead>\n",
       "    <tr style=\"text-align: right;\">\n",
       "      <th></th>\n",
       "      <th>hypothesis</th>\n",
       "      <th>ICE</th>\n",
       "    </tr>\n",
       "  </thead>\n",
       "  <tbody>\n",
       "    <tr>\n",
       "      <td>8</td>\n",
       "      <td>Запустить акцию, дающую скидку на товар в день рождения</td>\n",
       "      <td>16.200000</td>\n",
       "    </tr>\n",
       "    <tr>\n",
       "      <td>0</td>\n",
       "      <td>Добавить два новых канала привлечения трафика, что позволит привлекать на 30% больше пользователей</td>\n",
       "      <td>13.333333</td>\n",
       "    </tr>\n",
       "    <tr>\n",
       "      <td>7</td>\n",
       "      <td>Добавить форму подписки на все основные страницы, чтобы собрать базу клиентов для email-рассылок</td>\n",
       "      <td>11.200000</td>\n",
       "    </tr>\n",
       "    <tr>\n",
       "      <td>6</td>\n",
       "      <td>Показать на главной странице баннеры с актуальными акциями и распродажами, чтобы увеличить конверсию</td>\n",
       "      <td>8.000000</td>\n",
       "    </tr>\n",
       "    <tr>\n",
       "      <td>2</td>\n",
       "      <td>Добавить блоки рекомендаций товаров на сайт интернет магазина, чтобы повысить конверсию и средний чек заказа</td>\n",
       "      <td>7.000000</td>\n",
       "    </tr>\n",
       "    <tr>\n",
       "      <td>1</td>\n",
       "      <td>Запустить собственную службу доставки, что сократит срок доставки заказов</td>\n",
       "      <td>2.000000</td>\n",
       "    </tr>\n",
       "    <tr>\n",
       "      <td>5</td>\n",
       "      <td>Добавить страницу отзывов клиентов о магазине, что позволит увеличить количество заказов</td>\n",
       "      <td>1.333333</td>\n",
       "    </tr>\n",
       "    <tr>\n",
       "      <td>3</td>\n",
       "      <td>Изменить структура категорий, что увеличит конверсию, т.к. пользователи быстрее найдут нужный товар</td>\n",
       "      <td>1.125000</td>\n",
       "    </tr>\n",
       "    <tr>\n",
       "      <td>4</td>\n",
       "      <td>Изменить цвет фона главной страницы, чтобы увеличить вовлеченность пользователей</td>\n",
       "      <td>1.000000</td>\n",
       "    </tr>\n",
       "  </tbody>\n",
       "</table>\n",
       "</div>"
      ],
      "text/plain": [
       "                                                                                                     hypothesis  \\\n",
       "8                                                       Запустить акцию, дающую скидку на товар в день рождения   \n",
       "0            Добавить два новых канала привлечения трафика, что позволит привлекать на 30% больше пользователей   \n",
       "7              Добавить форму подписки на все основные страницы, чтобы собрать базу клиентов для email-рассылок   \n",
       "6          Показать на главной странице баннеры с актуальными акциями и распродажами, чтобы увеличить конверсию   \n",
       "2  Добавить блоки рекомендаций товаров на сайт интернет магазина, чтобы повысить конверсию и средний чек заказа   \n",
       "1                                     Запустить собственную службу доставки, что сократит срок доставки заказов   \n",
       "5                      Добавить страницу отзывов клиентов о магазине, что позволит увеличить количество заказов   \n",
       "3           Изменить структура категорий, что увеличит конверсию, т.к. пользователи быстрее найдут нужный товар   \n",
       "4                              Изменить цвет фона главной страницы, чтобы увеличить вовлеченность пользователей   \n",
       "\n",
       "         ICE  \n",
       "8  16.200000  \n",
       "0  13.333333  \n",
       "7  11.200000  \n",
       "6   8.000000  \n",
       "2   7.000000  \n",
       "1   2.000000  \n",
       "5   1.333333  \n",
       "3   1.125000  \n",
       "4   1.000000  "
      ]
     },
     "execution_count": 7,
     "metadata": {},
     "output_type": "execute_result"
    }
   ],
   "source": [
    "data[['hypothesis', 'ICE']].sort_values(by='ICE', ascending=False)"
   ]
  },
  {
   "cell_type": "code",
   "execution_count": 8,
   "metadata": {},
   "outputs": [
    {
     "data": {
      "text/html": [
       "<div>\n",
       "<style scoped>\n",
       "    .dataframe tbody tr th:only-of-type {\n",
       "        vertical-align: middle;\n",
       "    }\n",
       "\n",
       "    .dataframe tbody tr th {\n",
       "        vertical-align: top;\n",
       "    }\n",
       "\n",
       "    .dataframe thead th {\n",
       "        text-align: right;\n",
       "    }\n",
       "</style>\n",
       "<table border=\"1\" class=\"dataframe\">\n",
       "  <thead>\n",
       "    <tr style=\"text-align: right;\">\n",
       "      <th></th>\n",
       "      <th>hypothesis</th>\n",
       "      <th>RICE</th>\n",
       "    </tr>\n",
       "  </thead>\n",
       "  <tbody>\n",
       "    <tr>\n",
       "      <td>7</td>\n",
       "      <td>Добавить форму подписки на все основные страницы, чтобы собрать базу клиентов для email-рассылок</td>\n",
       "      <td>112.0</td>\n",
       "    </tr>\n",
       "    <tr>\n",
       "      <td>2</td>\n",
       "      <td>Добавить блоки рекомендаций товаров на сайт интернет магазина, чтобы повысить конверсию и средний чек заказа</td>\n",
       "      <td>56.0</td>\n",
       "    </tr>\n",
       "    <tr>\n",
       "      <td>0</td>\n",
       "      <td>Добавить два новых канала привлечения трафика, что позволит привлекать на 30% больше пользователей</td>\n",
       "      <td>40.0</td>\n",
       "    </tr>\n",
       "    <tr>\n",
       "      <td>6</td>\n",
       "      <td>Показать на главной странице баннеры с актуальными акциями и распродажами, чтобы увеличить конверсию</td>\n",
       "      <td>40.0</td>\n",
       "    </tr>\n",
       "    <tr>\n",
       "      <td>8</td>\n",
       "      <td>Запустить акцию, дающую скидку на товар в день рождения</td>\n",
       "      <td>16.2</td>\n",
       "    </tr>\n",
       "    <tr>\n",
       "      <td>3</td>\n",
       "      <td>Изменить структура категорий, что увеличит конверсию, т.к. пользователи быстрее найдут нужный товар</td>\n",
       "      <td>9.0</td>\n",
       "    </tr>\n",
       "    <tr>\n",
       "      <td>1</td>\n",
       "      <td>Запустить собственную службу доставки, что сократит срок доставки заказов</td>\n",
       "      <td>4.0</td>\n",
       "    </tr>\n",
       "    <tr>\n",
       "      <td>5</td>\n",
       "      <td>Добавить страницу отзывов клиентов о магазине, что позволит увеличить количество заказов</td>\n",
       "      <td>4.0</td>\n",
       "    </tr>\n",
       "    <tr>\n",
       "      <td>4</td>\n",
       "      <td>Изменить цвет фона главной страницы, чтобы увеличить вовлеченность пользователей</td>\n",
       "      <td>3.0</td>\n",
       "    </tr>\n",
       "  </tbody>\n",
       "</table>\n",
       "</div>"
      ],
      "text/plain": [
       "                                                                                                     hypothesis  \\\n",
       "7              Добавить форму подписки на все основные страницы, чтобы собрать базу клиентов для email-рассылок   \n",
       "2  Добавить блоки рекомендаций товаров на сайт интернет магазина, чтобы повысить конверсию и средний чек заказа   \n",
       "0            Добавить два новых канала привлечения трафика, что позволит привлекать на 30% больше пользователей   \n",
       "6          Показать на главной странице баннеры с актуальными акциями и распродажами, чтобы увеличить конверсию   \n",
       "8                                                       Запустить акцию, дающую скидку на товар в день рождения   \n",
       "3           Изменить структура категорий, что увеличит конверсию, т.к. пользователи быстрее найдут нужный товар   \n",
       "1                                     Запустить собственную службу доставки, что сократит срок доставки заказов   \n",
       "5                      Добавить страницу отзывов клиентов о магазине, что позволит увеличить количество заказов   \n",
       "4                              Изменить цвет фона главной страницы, чтобы увеличить вовлеченность пользователей   \n",
       "\n",
       "    RICE  \n",
       "7  112.0  \n",
       "2   56.0  \n",
       "0   40.0  \n",
       "6   40.0  \n",
       "8   16.2  \n",
       "3    9.0  \n",
       "1    4.0  \n",
       "5    4.0  \n",
       "4    3.0  "
      ]
     },
     "execution_count": 8,
     "metadata": {},
     "output_type": "execute_result"
    }
   ],
   "source": [
    "data['RICE'] = (data['reach']*data['impact']*data['confidence']) / data['efforts']\n",
    "\n",
    "data[['hypothesis', 'RICE']].sort_values(by='RICE', ascending=False)"
   ]
  },
  {
   "cell_type": "markdown",
   "metadata": {},
   "source": [
    "<div class=\"alert alert-block alert-info\" style=\"border-radius: 15px; border: 3px solid blue; padding: 15px; \">\n",
    "    \n",
    "Для ICE  приоретизация оказалась такой: 8, 0, 7, 6, 2, 1, 5, 3, 4.  \n",
    "Для RICE приоретизация оказалась такой: 7, 2, 0, 6, 8, 3, 1, 5, 4.\n",
    "    \n",
    "Ситуция с приоритетом гипотез изменилась, так как в числителе добавился множитель 'reach', то есть скольких пользователей затронет изменение. Таким образом, вверх по приоритетам поднялись гипотезы 7 и 2, а 0 немного опустилась. А вот 8 опустилась существенно.\n",
    "\n",
    "    \n",
    "</div>"
   ]
  },
  {
   "cell_type": "markdown",
   "metadata": {},
   "source": [
    "### Часть 2. Анализ A/B-теста"
   ]
  },
  {
   "cell_type": "markdown",
   "metadata": {},
   "source": [
    "#### 1. Построим график кумулятивной выручки по группам. Сделаем выводы и предположения."
   ]
  },
  {
   "cell_type": "code",
   "execution_count": 9,
   "metadata": {},
   "outputs": [],
   "source": [
    "import datetime as dt\n",
    "from scipy import stats as st"
   ]
  },
  {
   "cell_type": "code",
   "execution_count": 10,
   "metadata": {},
   "outputs": [
    {
     "data": {
      "text/html": [
       "<div>\n",
       "<style scoped>\n",
       "    .dataframe tbody tr th:only-of-type {\n",
       "        vertical-align: middle;\n",
       "    }\n",
       "\n",
       "    .dataframe tbody tr th {\n",
       "        vertical-align: top;\n",
       "    }\n",
       "\n",
       "    .dataframe thead th {\n",
       "        text-align: right;\n",
       "    }\n",
       "</style>\n",
       "<table border=\"1\" class=\"dataframe\">\n",
       "  <thead>\n",
       "    <tr style=\"text-align: right;\">\n",
       "      <th></th>\n",
       "      <th>transactionId</th>\n",
       "      <th>visitorId</th>\n",
       "      <th>date</th>\n",
       "      <th>revenue</th>\n",
       "      <th>group</th>\n",
       "    </tr>\n",
       "  </thead>\n",
       "  <tbody>\n",
       "    <tr>\n",
       "      <td>0</td>\n",
       "      <td>3667963787</td>\n",
       "      <td>3312258926</td>\n",
       "      <td>2019-08-15</td>\n",
       "      <td>1650</td>\n",
       "      <td>B</td>\n",
       "    </tr>\n",
       "    <tr>\n",
       "      <td>1</td>\n",
       "      <td>2804400009</td>\n",
       "      <td>3642806036</td>\n",
       "      <td>2019-08-15</td>\n",
       "      <td>730</td>\n",
       "      <td>B</td>\n",
       "    </tr>\n",
       "    <tr>\n",
       "      <td>2</td>\n",
       "      <td>2961555356</td>\n",
       "      <td>4069496402</td>\n",
       "      <td>2019-08-15</td>\n",
       "      <td>400</td>\n",
       "      <td>A</td>\n",
       "    </tr>\n",
       "    <tr>\n",
       "      <td>3</td>\n",
       "      <td>3797467345</td>\n",
       "      <td>1196621759</td>\n",
       "      <td>2019-08-15</td>\n",
       "      <td>9759</td>\n",
       "      <td>B</td>\n",
       "    </tr>\n",
       "    <tr>\n",
       "      <td>4</td>\n",
       "      <td>2282983706</td>\n",
       "      <td>2322279887</td>\n",
       "      <td>2019-08-15</td>\n",
       "      <td>2308</td>\n",
       "      <td>B</td>\n",
       "    </tr>\n",
       "  </tbody>\n",
       "</table>\n",
       "</div>"
      ],
      "text/plain": [
       "   transactionId   visitorId        date  revenue group\n",
       "0     3667963787  3312258926  2019-08-15     1650     B\n",
       "1     2804400009  3642806036  2019-08-15      730     B\n",
       "2     2961555356  4069496402  2019-08-15      400     A\n",
       "3     3797467345  1196621759  2019-08-15     9759     B\n",
       "4     2282983706  2322279887  2019-08-15     2308     B"
      ]
     },
     "execution_count": 10,
     "metadata": {},
     "output_type": "execute_result"
    }
   ],
   "source": [
    "orders.head()"
   ]
  },
  {
   "cell_type": "code",
   "execution_count": 11,
   "metadata": {},
   "outputs": [
    {
     "name": "stdout",
     "output_type": "stream",
     "text": [
      "<class 'pandas.core.frame.DataFrame'>\n",
      "RangeIndex: 1197 entries, 0 to 1196\n",
      "Data columns (total 5 columns):\n",
      "transactionId    1197 non-null int64\n",
      "visitorId        1197 non-null int64\n",
      "date             1197 non-null object\n",
      "revenue          1197 non-null int64\n",
      "group            1197 non-null object\n",
      "dtypes: int64(3), object(2)\n",
      "memory usage: 46.9+ KB\n"
     ]
    }
   ],
   "source": [
    "orders.info()"
   ]
  },
  {
   "cell_type": "code",
   "execution_count": 12,
   "metadata": {},
   "outputs": [
    {
     "data": {
      "text/html": [
       "<div>\n",
       "<style scoped>\n",
       "    .dataframe tbody tr th:only-of-type {\n",
       "        vertical-align: middle;\n",
       "    }\n",
       "\n",
       "    .dataframe tbody tr th {\n",
       "        vertical-align: top;\n",
       "    }\n",
       "\n",
       "    .dataframe thead th {\n",
       "        text-align: right;\n",
       "    }\n",
       "</style>\n",
       "<table border=\"1\" class=\"dataframe\">\n",
       "  <thead>\n",
       "    <tr style=\"text-align: right;\">\n",
       "      <th></th>\n",
       "      <th>date</th>\n",
       "      <th>group</th>\n",
       "      <th>visitors</th>\n",
       "    </tr>\n",
       "  </thead>\n",
       "  <tbody>\n",
       "    <tr>\n",
       "      <td>0</td>\n",
       "      <td>2019-08-01</td>\n",
       "      <td>A</td>\n",
       "      <td>719</td>\n",
       "    </tr>\n",
       "    <tr>\n",
       "      <td>1</td>\n",
       "      <td>2019-08-02</td>\n",
       "      <td>A</td>\n",
       "      <td>619</td>\n",
       "    </tr>\n",
       "    <tr>\n",
       "      <td>2</td>\n",
       "      <td>2019-08-03</td>\n",
       "      <td>A</td>\n",
       "      <td>507</td>\n",
       "    </tr>\n",
       "    <tr>\n",
       "      <td>3</td>\n",
       "      <td>2019-08-04</td>\n",
       "      <td>A</td>\n",
       "      <td>717</td>\n",
       "    </tr>\n",
       "    <tr>\n",
       "      <td>4</td>\n",
       "      <td>2019-08-05</td>\n",
       "      <td>A</td>\n",
       "      <td>756</td>\n",
       "    </tr>\n",
       "  </tbody>\n",
       "</table>\n",
       "</div>"
      ],
      "text/plain": [
       "         date group  visitors\n",
       "0  2019-08-01     A       719\n",
       "1  2019-08-02     A       619\n",
       "2  2019-08-03     A       507\n",
       "3  2019-08-04     A       717\n",
       "4  2019-08-05     A       756"
      ]
     },
     "execution_count": 12,
     "metadata": {},
     "output_type": "execute_result"
    }
   ],
   "source": [
    "visitors.head()"
   ]
  },
  {
   "cell_type": "code",
   "execution_count": 13,
   "metadata": {},
   "outputs": [
    {
     "name": "stdout",
     "output_type": "stream",
     "text": [
      "<class 'pandas.core.frame.DataFrame'>\n",
      "RangeIndex: 62 entries, 0 to 61\n",
      "Data columns (total 3 columns):\n",
      "date        62 non-null object\n",
      "group       62 non-null object\n",
      "visitors    62 non-null int64\n",
      "dtypes: int64(1), object(2)\n",
      "memory usage: 1.6+ KB\n"
     ]
    }
   ],
   "source": [
    "visitors.info()"
   ]
  },
  {
   "cell_type": "code",
   "execution_count": 14,
   "metadata": {},
   "outputs": [],
   "source": [
    "visitors['date'] = visitors['date'].map(\n",
    "    lambda x: dt.datetime.strptime(x, '%Y-%m-%d')\n",
    ")"
   ]
  },
  {
   "cell_type": "code",
   "execution_count": 15,
   "metadata": {},
   "outputs": [],
   "source": [
    "\n",
    "orders['date'] = orders['date'].map(\n",
    "    lambda x: dt.datetime.strptime(x, '%Y-%m-%d')\n",
    ")"
   ]
  },
  {
   "cell_type": "markdown",
   "metadata": {},
   "source": [
    "* Так как понадобится построение графиков для различных куммулятивных данных, поэтому преобразуем обе исходные таблицы и объеденим данные в одну общую."
   ]
  },
  {
   "cell_type": "code",
   "execution_count": 16,
   "metadata": {},
   "outputs": [],
   "source": [
    "datesGroups = orders[['date','group']].drop_duplicates()"
   ]
  },
  {
   "cell_type": "markdown",
   "metadata": {},
   "source": [
    "Найдем пользователей, которые попали в обе группы."
   ]
  },
  {
   "cell_type": "code",
   "execution_count": 17,
   "metadata": {},
   "outputs": [],
   "source": [
    "groupA = orders.query('group == \"A\"')\n",
    "groupB = orders.query('group == \"B\"')"
   ]
  },
  {
   "cell_type": "code",
   "execution_count": 18,
   "metadata": {},
   "outputs": [
    {
     "name": "stdout",
     "output_type": "stream",
     "text": [
      "58\n"
     ]
    }
   ],
   "source": [
    "dublicate = groupB[groupB['visitorId'].isin(groupA['visitorId'])]\n",
    "print(dublicate['visitorId'].nunique())\n"
   ]
  },
  {
   "cell_type": "code",
   "execution_count": 19,
   "metadata": {},
   "outputs": [
    {
     "name": "stdout",
     "output_type": "stream",
     "text": [
      "1031\n"
     ]
    }
   ],
   "source": [
    "print(orders['visitorId'].nunique())"
   ]
  },
  {
   "cell_type": "code",
   "execution_count": 20,
   "metadata": {},
   "outputs": [],
   "source": [
    "visitorId = dublicate['visitorId'].unique().tolist()"
   ]
  },
  {
   "cell_type": "code",
   "execution_count": 21,
   "metadata": {},
   "outputs": [],
   "source": [
    "orders = orders.query('visitorId not in @visitorId')"
   ]
  },
  {
   "cell_type": "code",
   "execution_count": 22,
   "metadata": {},
   "outputs": [
    {
     "name": "stdout",
     "output_type": "stream",
     "text": [
      "<class 'pandas.core.frame.DataFrame'>\n",
      "Int64Index: 1016 entries, 0 to 1196\n",
      "Data columns (total 5 columns):\n",
      "transactionId    1016 non-null int64\n",
      "visitorId        1016 non-null int64\n",
      "date             1016 non-null datetime64[ns]\n",
      "revenue          1016 non-null int64\n",
      "group            1016 non-null object\n",
      "dtypes: datetime64[ns](1), int64(3), object(1)\n",
      "memory usage: 47.6+ KB\n"
     ]
    }
   ],
   "source": [
    "orders.info()"
   ]
  },
  {
   "cell_type": "markdown",
   "metadata": {},
   "source": [
    "Таких пользователей оказалось 58, логично их удалить, так как эти записи являются ошибкой и точно искажают общую картину теста."
   ]
  },
  {
   "cell_type": "code",
   "execution_count": 23,
   "metadata": {},
   "outputs": [],
   "source": [
    "ordersAggregated = datesGroups.apply(\n",
    "    lambda x: orders[np.logical_and(orders['date'] <= x['date'], orders['group'] == x['group'])]\n",
    "        .agg({'date': 'max',\n",
    "            'group': 'max',\n",
    "            'transactionId': pd.Series.nunique,\n",
    "            'visitorId': pd.Series.nunique,\n",
    "            'revenue': 'sum',\n",
    "            }\n",
    "    ),\n",
    "    axis=1,\n",
    ").sort_values(by=['date', 'group'])"
   ]
  },
  {
   "cell_type": "code",
   "execution_count": 24,
   "metadata": {},
   "outputs": [
    {
     "data": {
      "text/html": [
       "<div>\n",
       "<style scoped>\n",
       "    .dataframe tbody tr th:only-of-type {\n",
       "        vertical-align: middle;\n",
       "    }\n",
       "\n",
       "    .dataframe tbody tr th {\n",
       "        vertical-align: top;\n",
       "    }\n",
       "\n",
       "    .dataframe thead th {\n",
       "        text-align: right;\n",
       "    }\n",
       "</style>\n",
       "<table border=\"1\" class=\"dataframe\">\n",
       "  <thead>\n",
       "    <tr style=\"text-align: right;\">\n",
       "      <th></th>\n",
       "      <th>date</th>\n",
       "      <th>group</th>\n",
       "      <th>transactionId</th>\n",
       "      <th>visitorId</th>\n",
       "      <th>revenue</th>\n",
       "    </tr>\n",
       "  </thead>\n",
       "  <tbody>\n",
       "    <tr>\n",
       "      <td>55</td>\n",
       "      <td>2019-08-01</td>\n",
       "      <td>A</td>\n",
       "      <td>23</td>\n",
       "      <td>19</td>\n",
       "      <td>142779</td>\n",
       "    </tr>\n",
       "    <tr>\n",
       "      <td>66</td>\n",
       "      <td>2019-08-01</td>\n",
       "      <td>B</td>\n",
       "      <td>17</td>\n",
       "      <td>17</td>\n",
       "      <td>59758</td>\n",
       "    </tr>\n",
       "    <tr>\n",
       "      <td>175</td>\n",
       "      <td>2019-08-02</td>\n",
       "      <td>A</td>\n",
       "      <td>42</td>\n",
       "      <td>36</td>\n",
       "      <td>234381</td>\n",
       "    </tr>\n",
       "    <tr>\n",
       "      <td>173</td>\n",
       "      <td>2019-08-02</td>\n",
       "      <td>B</td>\n",
       "      <td>40</td>\n",
       "      <td>39</td>\n",
       "      <td>221801</td>\n",
       "    </tr>\n",
       "    <tr>\n",
       "      <td>291</td>\n",
       "      <td>2019-08-03</td>\n",
       "      <td>A</td>\n",
       "      <td>66</td>\n",
       "      <td>60</td>\n",
       "      <td>346854</td>\n",
       "    </tr>\n",
       "  </tbody>\n",
       "</table>\n",
       "</div>"
      ],
      "text/plain": [
       "          date group  transactionId  visitorId  revenue\n",
       "55  2019-08-01     A             23         19   142779\n",
       "66  2019-08-01     B             17         17    59758\n",
       "175 2019-08-02     A             42         36   234381\n",
       "173 2019-08-02     B             40         39   221801\n",
       "291 2019-08-03     A             66         60   346854"
      ]
     },
     "execution_count": 24,
     "metadata": {},
     "output_type": "execute_result"
    }
   ],
   "source": [
    "ordersAggregated.head()"
   ]
  },
  {
   "cell_type": "code",
   "execution_count": 25,
   "metadata": {},
   "outputs": [],
   "source": [
    "visitorsAggregated = datesGroups.apply(\n",
    "    lambda x: visitors[np.logical_and(visitors['date'] <= x['date'], visitors['group'] == x['group'])]\n",
    "        .agg({'date': 'max',\n",
    "            'group': 'max',\n",
    "            'visitors': 'sum'\n",
    "            }\n",
    "    ),\n",
    "    axis=1,\n",
    ").sort_values(by=['date', 'group'])"
   ]
  },
  {
   "cell_type": "code",
   "execution_count": 26,
   "metadata": {},
   "outputs": [
    {
     "data": {
      "text/html": [
       "<div>\n",
       "<style scoped>\n",
       "    .dataframe tbody tr th:only-of-type {\n",
       "        vertical-align: middle;\n",
       "    }\n",
       "\n",
       "    .dataframe tbody tr th {\n",
       "        vertical-align: top;\n",
       "    }\n",
       "\n",
       "    .dataframe thead th {\n",
       "        text-align: right;\n",
       "    }\n",
       "</style>\n",
       "<table border=\"1\" class=\"dataframe\">\n",
       "  <thead>\n",
       "    <tr style=\"text-align: right;\">\n",
       "      <th></th>\n",
       "      <th>date</th>\n",
       "      <th>group</th>\n",
       "      <th>visitors</th>\n",
       "    </tr>\n",
       "  </thead>\n",
       "  <tbody>\n",
       "    <tr>\n",
       "      <td>55</td>\n",
       "      <td>2019-08-01</td>\n",
       "      <td>A</td>\n",
       "      <td>719</td>\n",
       "    </tr>\n",
       "    <tr>\n",
       "      <td>66</td>\n",
       "      <td>2019-08-01</td>\n",
       "      <td>B</td>\n",
       "      <td>713</td>\n",
       "    </tr>\n",
       "    <tr>\n",
       "      <td>175</td>\n",
       "      <td>2019-08-02</td>\n",
       "      <td>A</td>\n",
       "      <td>1338</td>\n",
       "    </tr>\n",
       "    <tr>\n",
       "      <td>173</td>\n",
       "      <td>2019-08-02</td>\n",
       "      <td>B</td>\n",
       "      <td>1294</td>\n",
       "    </tr>\n",
       "    <tr>\n",
       "      <td>291</td>\n",
       "      <td>2019-08-03</td>\n",
       "      <td>A</td>\n",
       "      <td>1845</td>\n",
       "    </tr>\n",
       "  </tbody>\n",
       "</table>\n",
       "</div>"
      ],
      "text/plain": [
       "          date group  visitors\n",
       "55  2019-08-01     A       719\n",
       "66  2019-08-01     B       713\n",
       "175 2019-08-02     A      1338\n",
       "173 2019-08-02     B      1294\n",
       "291 2019-08-03     A      1845"
      ]
     },
     "execution_count": 26,
     "metadata": {},
     "output_type": "execute_result"
    }
   ],
   "source": [
    "visitorsAggregated.head()"
   ]
  },
  {
   "cell_type": "code",
   "execution_count": 27,
   "metadata": {},
   "outputs": [],
   "source": [
    "cumulativeData = ordersAggregated.merge(visitorsAggregated, left_on=['date', 'group'], right_on=['date', 'group'])"
   ]
  },
  {
   "cell_type": "code",
   "execution_count": 28,
   "metadata": {},
   "outputs": [
    {
     "data": {
      "text/html": [
       "<div>\n",
       "<style scoped>\n",
       "    .dataframe tbody tr th:only-of-type {\n",
       "        vertical-align: middle;\n",
       "    }\n",
       "\n",
       "    .dataframe tbody tr th {\n",
       "        vertical-align: top;\n",
       "    }\n",
       "\n",
       "    .dataframe thead th {\n",
       "        text-align: right;\n",
       "    }\n",
       "</style>\n",
       "<table border=\"1\" class=\"dataframe\">\n",
       "  <thead>\n",
       "    <tr style=\"text-align: right;\">\n",
       "      <th></th>\n",
       "      <th>date</th>\n",
       "      <th>group</th>\n",
       "      <th>transactionId</th>\n",
       "      <th>visitorId</th>\n",
       "      <th>revenue</th>\n",
       "      <th>visitors</th>\n",
       "    </tr>\n",
       "  </thead>\n",
       "  <tbody>\n",
       "    <tr>\n",
       "      <td>0</td>\n",
       "      <td>2019-08-01</td>\n",
       "      <td>A</td>\n",
       "      <td>23</td>\n",
       "      <td>19</td>\n",
       "      <td>142779</td>\n",
       "      <td>719</td>\n",
       "    </tr>\n",
       "    <tr>\n",
       "      <td>1</td>\n",
       "      <td>2019-08-01</td>\n",
       "      <td>B</td>\n",
       "      <td>17</td>\n",
       "      <td>17</td>\n",
       "      <td>59758</td>\n",
       "      <td>713</td>\n",
       "    </tr>\n",
       "    <tr>\n",
       "      <td>2</td>\n",
       "      <td>2019-08-02</td>\n",
       "      <td>A</td>\n",
       "      <td>42</td>\n",
       "      <td>36</td>\n",
       "      <td>234381</td>\n",
       "      <td>1338</td>\n",
       "    </tr>\n",
       "    <tr>\n",
       "      <td>3</td>\n",
       "      <td>2019-08-02</td>\n",
       "      <td>B</td>\n",
       "      <td>40</td>\n",
       "      <td>39</td>\n",
       "      <td>221801</td>\n",
       "      <td>1294</td>\n",
       "    </tr>\n",
       "    <tr>\n",
       "      <td>4</td>\n",
       "      <td>2019-08-03</td>\n",
       "      <td>A</td>\n",
       "      <td>66</td>\n",
       "      <td>60</td>\n",
       "      <td>346854</td>\n",
       "      <td>1845</td>\n",
       "    </tr>\n",
       "  </tbody>\n",
       "</table>\n",
       "</div>"
      ],
      "text/plain": [
       "        date group  transactionId  visitorId  revenue  visitors\n",
       "0 2019-08-01     A             23         19   142779       719\n",
       "1 2019-08-01     B             17         17    59758       713\n",
       "2 2019-08-02     A             42         36   234381      1338\n",
       "3 2019-08-02     B             40         39   221801      1294\n",
       "4 2019-08-03     A             66         60   346854      1845"
      ]
     },
     "execution_count": 28,
     "metadata": {},
     "output_type": "execute_result"
    }
   ],
   "source": [
    "cumulativeData.head()"
   ]
  },
  {
   "cell_type": "code",
   "execution_count": 29,
   "metadata": {},
   "outputs": [],
   "source": [
    "cumulativeData.columns = ['date', 'group', 'orders', 'buyers', 'revenue', 'visitors']"
   ]
  },
  {
   "cell_type": "code",
   "execution_count": 30,
   "metadata": {},
   "outputs": [],
   "source": [
    "cumulativeRevenueA = cumulativeData[cumulativeData['group']=='A'][['date','revenue', 'orders']]\n",
    "cumulativeRevenueB = cumulativeData[cumulativeData['group']=='B'][['date','revenue', 'orders']]"
   ]
  },
  {
   "cell_type": "code",
   "execution_count": 31,
   "metadata": {},
   "outputs": [
    {
     "data": {
      "text/html": [
       "<div>\n",
       "<style scoped>\n",
       "    .dataframe tbody tr th:only-of-type {\n",
       "        vertical-align: middle;\n",
       "    }\n",
       "\n",
       "    .dataframe tbody tr th {\n",
       "        vertical-align: top;\n",
       "    }\n",
       "\n",
       "    .dataframe thead th {\n",
       "        text-align: right;\n",
       "    }\n",
       "</style>\n",
       "<table border=\"1\" class=\"dataframe\">\n",
       "  <thead>\n",
       "    <tr style=\"text-align: right;\">\n",
       "      <th></th>\n",
       "      <th>date</th>\n",
       "      <th>revenue</th>\n",
       "      <th>orders</th>\n",
       "    </tr>\n",
       "  </thead>\n",
       "  <tbody>\n",
       "    <tr>\n",
       "      <td>0</td>\n",
       "      <td>2019-08-01</td>\n",
       "      <td>142779</td>\n",
       "      <td>23</td>\n",
       "    </tr>\n",
       "    <tr>\n",
       "      <td>2</td>\n",
       "      <td>2019-08-02</td>\n",
       "      <td>234381</td>\n",
       "      <td>42</td>\n",
       "    </tr>\n",
       "    <tr>\n",
       "      <td>4</td>\n",
       "      <td>2019-08-03</td>\n",
       "      <td>346854</td>\n",
       "      <td>66</td>\n",
       "    </tr>\n",
       "    <tr>\n",
       "      <td>6</td>\n",
       "      <td>2019-08-04</td>\n",
       "      <td>388030</td>\n",
       "      <td>77</td>\n",
       "    </tr>\n",
       "    <tr>\n",
       "      <td>8</td>\n",
       "      <td>2019-08-05</td>\n",
       "      <td>474413</td>\n",
       "      <td>99</td>\n",
       "    </tr>\n",
       "  </tbody>\n",
       "</table>\n",
       "</div>"
      ],
      "text/plain": [
       "        date  revenue  orders\n",
       "0 2019-08-01   142779      23\n",
       "2 2019-08-02   234381      42\n",
       "4 2019-08-03   346854      66\n",
       "6 2019-08-04   388030      77\n",
       "8 2019-08-05   474413      99"
      ]
     },
     "execution_count": 31,
     "metadata": {},
     "output_type": "execute_result"
    }
   ],
   "source": [
    "cumulativeRevenueA.head()"
   ]
  },
  {
   "cell_type": "markdown",
   "metadata": {},
   "source": [
    "*Теперь построим график кумулятивной выручки по группам"
   ]
  },
  {
   "cell_type": "code",
   "execution_count": 32,
   "metadata": {},
   "outputs": [
    {
     "name": "stderr",
     "output_type": "stream",
     "text": [
      "/opt/conda/lib/python3.7/site-packages/pandas/plotting/_matplotlib/converter.py:103: FutureWarning:\n",
      "\n",
      "Using an implicitly registered datetime converter for a matplotlib plotting method. The converter was registered by pandas on import. Future versions of pandas will require you to explicitly register matplotlib converters.\n",
      "\n",
      "To register the converters:\n",
      "\t>>> from pandas.plotting import register_matplotlib_converters\n",
      "\t>>> register_matplotlib_converters()\n",
      "\n"
     ]
    },
    {
     "data": {
      "image/png": "[encoded data removed]",
      "text/plain": [
       "<Figure size 720x432 with 1 Axes>"
      ]
     },
     "metadata": {
      "needs_background": "light"
     },
     "output_type": "display_data"
    }
   ],
   "source": [
    "plt.figure(figsize=(10,6))\n",
    "plt.plot(cumulativeRevenueA['date'], cumulativeRevenueA['revenue'], label = 'A')\n",
    "plt.plot(cumulativeRevenueB['date'], cumulativeRevenueB['revenue'], label = 'B')\n",
    "plt.title('Изменение кумулятивной выручки по группам')\n",
    "plt.legend()\n",
    "plt.xlabel('Дата')\n",
    "plt.ylabel('Кумулятивная выручка')\n",
    "plt.xticks(rotation=60)\n",
    "plt.show()"
   ]
  },
  {
   "cell_type": "markdown",
   "metadata": {},
   "source": [
    "* При сравнительно похожих результатах в начале теста, выручка группы В ближе к середине временного интервала выросла, а затем совершила еще более резкий скачок. Предположительно это связано с какой-то аномалией. Следует более внимательно изучить данное предположение."
   ]
  },
  {
   "cell_type": "markdown",
   "metadata": {},
   "source": [
    "#### 2. Построим график кумулятивного среднего чека по группам. Сделаем выводы и предположения."
   ]
  },
  {
   "cell_type": "code",
   "execution_count": 33,
   "metadata": {},
   "outputs": [
    {
     "data": {
      "image/png": "[encoded data removed]",
      "text/plain": [
       "<Figure size 792x432 with 1 Axes>"
      ]
     },
     "metadata": {
      "needs_background": "light"
     },
     "output_type": "display_data"
    }
   ],
   "source": [
    "plt.figure(figsize=(11,6))\n",
    "plt.plot(cumulativeRevenueA['date'], cumulativeRevenueA['revenue']/cumulativeRevenueA['orders'], label = 'A')\n",
    "plt.plot(cumulativeRevenueB['date'], cumulativeRevenueB['revenue']/cumulativeRevenueB['orders'], label = 'B')\n",
    "plt.legend()\n",
    "plt.title('Изменение кумулятивного среднего чека по группам')\n",
    "plt.xlabel('Дата')\n",
    "plt.ylabel('Кумулятивный средний чек')\n",
    "plt.xticks(rotation=60)\n",
    "plt.show()"
   ]
  },
  {
   "cell_type": "markdown",
   "metadata": {},
   "source": [
    "* График кумулятивного среднего чека претерпевает существенные колебания, например, резкий скачок вначале второй полвины теста. Предположительно это произошло в связи с аномальной крупной покупкой. Поэтому выводы делать преждевременно, сначала нужно \"очистить\" данные."
   ]
  },
  {
   "cell_type": "markdown",
   "metadata": {},
   "source": [
    "#### 3. Построим график относительного изменения кумулятивного среднего чека группы В к А. Сделаем выводы и предположения."
   ]
  },
  {
   "cell_type": "code",
   "execution_count": 34,
   "metadata": {},
   "outputs": [
    {
     "data": {
      "image/png": "[encoded data removed]",
      "text/plain": [
       "<Figure size 792x504 with 1 Axes>"
      ]
     },
     "metadata": {
      "needs_background": "light"
     },
     "output_type": "display_data"
    }
   ],
   "source": [
    "mergedCumulativeRevenue = cumulativeRevenueA.merge(cumulativeRevenueB, left_on='date', right_on='date', suffixes=['A', 'B'])\n",
    "plt.figure(figsize=(11,7))\n",
    "plt.plot(mergedCumulativeRevenue['date'], (mergedCumulativeRevenue['revenueB']/mergedCumulativeRevenue['ordersB'])/(mergedCumulativeRevenue['revenueA']/mergedCumulativeRevenue['ordersA'])-1)\n",
    "plt.title('Относительное изменение кумулятивной выручки группы В к А')\n",
    "plt.xlabel('Дата')\n",
    "plt.ylabel('Отношение кумулятивной выручки В к А')\n",
    "plt.xticks(rotation=60)\n",
    "plt.show()\n"
   ]
  },
  {
   "cell_type": "markdown",
   "metadata": {},
   "source": [
    "* На графике присутствуют резкие изменения относительной величины среднего чека, то есть в эти даты происходило значительное изменение в одной из групп. Предположительно, к такой ситуации могли привести аномальные заказы."
   ]
  },
  {
   "cell_type": "markdown",
   "metadata": {},
   "source": [
    "#### 4. Построим график кумулятивной конверсии по группам. Сделаем выводы и предположения."
   ]
  },
  {
   "cell_type": "code",
   "execution_count": 35,
   "metadata": {},
   "outputs": [],
   "source": [
    "cumulativeData['conversion'] = cumulativeData['orders']/cumulativeData['visitors']\n",
    "cumulativeDataA = cumulativeData[cumulativeData['group']=='A']\n",
    "cumulativeDataB = cumulativeData[cumulativeData['group']=='B']"
   ]
  },
  {
   "cell_type": "code",
   "execution_count": 36,
   "metadata": {},
   "outputs": [
    {
     "data": {
      "image/png": "[encoded data removed]",
      "text/plain": [
       "<Figure size 720x432 with 1 Axes>"
      ]
     },
     "metadata": {
      "needs_background": "light"
     },
     "output_type": "display_data"
    }
   ],
   "source": [
    "plt.figure(figsize=(10,6))\n",
    "plt.plot(cumulativeDataA['date'], cumulativeDataA['conversion'], label='A')\n",
    "plt.plot(cumulativeDataB['date'], cumulativeDataB['conversion'], label='B')\n",
    "plt.legend()\n",
    "plt.axis([\"2019-08-01\", '2019-08-31', 0, 0.05])\n",
    "plt.title('Изменение кумулятивной конверсии по группам')\n",
    "plt.xlabel('Дата')\n",
    "plt.ylabel('Кумулятивная конверсия по группам')\n",
    "plt.xticks(rotation=60)\n",
    "plt.show()"
   ]
  },
  {
   "cell_type": "code",
   "execution_count": 37,
   "metadata": {},
   "outputs": [
    {
     "data": {
      "text/plain": [
       "0   2019-08-01\n",
       "1   2019-08-01\n",
       "2   2019-08-02\n",
       "3   2019-08-02\n",
       "4   2019-08-03\n",
       "Name: date, dtype: datetime64[ns]"
      ]
     },
     "execution_count": 37,
     "metadata": {},
     "output_type": "execute_result"
    }
   ],
   "source": [
    "cumulativeData['date'].head()"
   ]
  },
  {
   "cell_type": "code",
   "execution_count": 38,
   "metadata": {},
   "outputs": [
    {
     "data": {
      "text/plain": [
       "57   2019-08-29\n",
       "58   2019-08-30\n",
       "59   2019-08-30\n",
       "60   2019-08-31\n",
       "61   2019-08-31\n",
       "Name: date, dtype: datetime64[ns]"
      ]
     },
     "execution_count": 38,
     "metadata": {},
     "output_type": "execute_result"
    }
   ],
   "source": [
    "cumulativeData['date'].tail()"
   ]
  },
  {
   "cell_type": "markdown",
   "metadata": {},
   "source": [
    "* Уменьшив масштаб графика видно, что во второй половине теста конверсии стабилизировались и конверсия группы В стала стабильно выше группы А. "
   ]
  },
  {
   "cell_type": "markdown",
   "metadata": {},
   "source": [
    "#### 5. Построим график относительного изменения кумулятивной конверсии группы B к группе A. Сделаем выводы и предположения."
   ]
  },
  {
   "cell_type": "code",
   "execution_count": 39,
   "metadata": {},
   "outputs": [],
   "source": [
    "mergedCumulativeConversions = cumulativeDataA[['date', 'conversion']].merge(cumulativeDataB[['date', 'conversion']], left_on='date', right_on='date', how='left', suffixes=['A', 'B'])"
   ]
  },
  {
   "cell_type": "code",
   "execution_count": 40,
   "metadata": {},
   "outputs": [
    {
     "data": {
      "image/png": "[encoded data removed]",
      "text/plain": [
       "<Figure size 648x360 with 1 Axes>"
      ]
     },
     "metadata": {
      "needs_background": "light"
     },
     "output_type": "display_data"
    }
   ],
   "source": [
    "plt.figure(figsize=(9,5))\n",
    "plt.plot(mergedCumulativeConversions['date'], mergedCumulativeConversions['conversionB']/mergedCumulativeConversions['conversionA']-1)\n",
    "plt.axhline(y=0, color='black', linestyle='--')\n",
    "plt.title('Относительное изменение кумулятивной конверсии группы В к А')\n",
    "plt.xlabel('Дата')\n",
    "plt.ylabel('Отношение кумулятивной конверсии группы В к А')\n",
    "plt.xticks(rotation=60)\n",
    "plt.show()"
   ]
  },
  {
   "cell_type": "markdown",
   "metadata": {},
   "source": [
    "* С начала теста конверсия группы В то растет, то падает относительно группы А. Однако, затем стабильно растет, а затем колеблется в диапазоне 10-20%."
   ]
  },
  {
   "cell_type": "markdown",
   "metadata": {},
   "source": [
    "#### 6. Построим точечный график количества заказов по пользователям. Сделаем выводы и предположения."
   ]
  },
  {
   "cell_type": "code",
   "execution_count": 41,
   "metadata": {},
   "outputs": [
    {
     "data": {
      "text/html": [
       "<div>\n",
       "<style scoped>\n",
       "    .dataframe tbody tr th:only-of-type {\n",
       "        vertical-align: middle;\n",
       "    }\n",
       "\n",
       "    .dataframe tbody tr th {\n",
       "        vertical-align: top;\n",
       "    }\n",
       "\n",
       "    .dataframe thead th {\n",
       "        text-align: right;\n",
       "    }\n",
       "</style>\n",
       "<table border=\"1\" class=\"dataframe\">\n",
       "  <thead>\n",
       "    <tr style=\"text-align: right;\">\n",
       "      <th></th>\n",
       "      <th>transactionId</th>\n",
       "      <th>visitorId</th>\n",
       "      <th>date</th>\n",
       "      <th>revenue</th>\n",
       "      <th>group</th>\n",
       "    </tr>\n",
       "  </thead>\n",
       "  <tbody>\n",
       "    <tr>\n",
       "      <td>0</td>\n",
       "      <td>3667963787</td>\n",
       "      <td>3312258926</td>\n",
       "      <td>2019-08-15</td>\n",
       "      <td>1650</td>\n",
       "      <td>B</td>\n",
       "    </tr>\n",
       "    <tr>\n",
       "      <td>1</td>\n",
       "      <td>2804400009</td>\n",
       "      <td>3642806036</td>\n",
       "      <td>2019-08-15</td>\n",
       "      <td>730</td>\n",
       "      <td>B</td>\n",
       "    </tr>\n",
       "    <tr>\n",
       "      <td>3</td>\n",
       "      <td>3797467345</td>\n",
       "      <td>1196621759</td>\n",
       "      <td>2019-08-15</td>\n",
       "      <td>9759</td>\n",
       "      <td>B</td>\n",
       "    </tr>\n",
       "    <tr>\n",
       "      <td>4</td>\n",
       "      <td>2282983706</td>\n",
       "      <td>2322279887</td>\n",
       "      <td>2019-08-15</td>\n",
       "      <td>2308</td>\n",
       "      <td>B</td>\n",
       "    </tr>\n",
       "    <tr>\n",
       "      <td>5</td>\n",
       "      <td>182168103</td>\n",
       "      <td>935554773</td>\n",
       "      <td>2019-08-15</td>\n",
       "      <td>2210</td>\n",
       "      <td>B</td>\n",
       "    </tr>\n",
       "  </tbody>\n",
       "</table>\n",
       "</div>"
      ],
      "text/plain": [
       "   transactionId   visitorId       date  revenue group\n",
       "0     3667963787  3312258926 2019-08-15     1650     B\n",
       "1     2804400009  3642806036 2019-08-15      730     B\n",
       "3     3797467345  1196621759 2019-08-15     9759     B\n",
       "4     2282983706  2322279887 2019-08-15     2308     B\n",
       "5      182168103   935554773 2019-08-15     2210     B"
      ]
     },
     "execution_count": 41,
     "metadata": {},
     "output_type": "execute_result"
    }
   ],
   "source": [
    "orders.head()"
   ]
  },
  {
   "cell_type": "code",
   "execution_count": 42,
   "metadata": {},
   "outputs": [],
   "source": [
    "ordersByUsers = (\n",
    "    orders.drop(['group', 'revenue', 'date'], axis=1)\n",
    "    .groupby('visitorId', as_index=False)\n",
    "    .agg({'transactionId': pd.Series.nunique})\n",
    ")"
   ]
  },
  {
   "cell_type": "code",
   "execution_count": 43,
   "metadata": {},
   "outputs": [],
   "source": [
    "ordersByUsers.columns = ['userId', 'orders']"
   ]
  },
  {
   "cell_type": "code",
   "execution_count": 44,
   "metadata": {},
   "outputs": [
    {
     "data": {
      "text/html": [
       "<div>\n",
       "<style scoped>\n",
       "    .dataframe tbody tr th:only-of-type {\n",
       "        vertical-align: middle;\n",
       "    }\n",
       "\n",
       "    .dataframe tbody tr th {\n",
       "        vertical-align: top;\n",
       "    }\n",
       "\n",
       "    .dataframe thead th {\n",
       "        text-align: right;\n",
       "    }\n",
       "</style>\n",
       "<table border=\"1\" class=\"dataframe\">\n",
       "  <thead>\n",
       "    <tr style=\"text-align: right;\">\n",
       "      <th></th>\n",
       "      <th>userId</th>\n",
       "      <th>orders</th>\n",
       "    </tr>\n",
       "  </thead>\n",
       "  <tbody>\n",
       "    <tr>\n",
       "      <td>908</td>\n",
       "      <td>3967698036</td>\n",
       "      <td>3</td>\n",
       "    </tr>\n",
       "    <tr>\n",
       "      <td>55</td>\n",
       "      <td>249864742</td>\n",
       "      <td>3</td>\n",
       "    </tr>\n",
       "    <tr>\n",
       "      <td>478</td>\n",
       "      <td>2108163459</td>\n",
       "      <td>3</td>\n",
       "    </tr>\n",
       "    <tr>\n",
       "      <td>687</td>\n",
       "      <td>2988190573</td>\n",
       "      <td>3</td>\n",
       "    </tr>\n",
       "    <tr>\n",
       "      <td>890</td>\n",
       "      <td>3908431265</td>\n",
       "      <td>3</td>\n",
       "    </tr>\n",
       "    <tr>\n",
       "      <td>138</td>\n",
       "      <td>611059232</td>\n",
       "      <td>3</td>\n",
       "    </tr>\n",
       "    <tr>\n",
       "      <td>632</td>\n",
       "      <td>2742574263</td>\n",
       "      <td>3</td>\n",
       "    </tr>\n",
       "    <tr>\n",
       "      <td>157</td>\n",
       "      <td>678354126</td>\n",
       "      <td>2</td>\n",
       "    </tr>\n",
       "  </tbody>\n",
       "</table>\n",
       "</div>"
      ],
      "text/plain": [
       "         userId  orders\n",
       "908  3967698036       3\n",
       "55    249864742       3\n",
       "478  2108163459       3\n",
       "687  2988190573       3\n",
       "890  3908431265       3\n",
       "138   611059232       3\n",
       "632  2742574263       3\n",
       "157   678354126       2"
      ]
     },
     "execution_count": 44,
     "metadata": {},
     "output_type": "execute_result"
    }
   ],
   "source": [
    "ordersByUsers.sort_values(by='orders', ascending=False).head(8)"
   ]
  },
  {
   "cell_type": "code",
   "execution_count": 45,
   "metadata": {},
   "outputs": [
    {
     "data": {
      "image/png": "[encoded data removed]",
      "text/plain": [
       "<Figure size 648x360 with 1 Axes>"
      ]
     },
     "metadata": {
      "needs_background": "light"
     },
     "output_type": "display_data"
    }
   ],
   "source": [
    "x_values = pd.Series(range(0,len(ordersByUsers)))\n",
    "plt.figure(figsize=(9,5))\n",
    "plt.scatter(x_values, ordersByUsers['orders'])\n",
    "plt.show()"
   ]
  },
  {
   "cell_type": "markdown",
   "metadata": {},
   "source": [
    "* Количество заказов выглядит нормальным для 1 и 2, а вот для больше 2 это выброса. Для более точного ответа на вопрос является ли 2 покупки выбросом или нет, необходимо провести дополнительное исследование."
   ]
  },
  {
   "cell_type": "markdown",
   "metadata": {},
   "source": [
    "#### 7. Посчитаем 95-й и 99-й перцентили количества заказов на пользователя. Выберем границу для определения аномальных пользователей."
   ]
  },
  {
   "cell_type": "code",
   "execution_count": 46,
   "metadata": {},
   "outputs": [
    {
     "name": "stdout",
     "output_type": "stream",
     "text": [
      "[1. 2.]\n"
     ]
    }
   ],
   "source": [
    "print(np.percentile(ordersByUsers['orders'], [95, 99]))"
   ]
  },
  {
   "cell_type": "markdown",
   "metadata": {},
   "source": [
    "* Совершали более 1 заказ 5% пользователей, а более 2 заказов только 1%. Таким образом, причем 1 за верхнюю границу числа заказов"
   ]
  },
  {
   "cell_type": "markdown",
   "metadata": {},
   "source": [
    "#### 8. Построим точечный график стоимостей заказов. Сделаем выводы и предположения."
   ]
  },
  {
   "cell_type": "code",
   "execution_count": 47,
   "metadata": {},
   "outputs": [
    {
     "data": {
      "text/html": [
       "<div>\n",
       "<style scoped>\n",
       "    .dataframe tbody tr th:only-of-type {\n",
       "        vertical-align: middle;\n",
       "    }\n",
       "\n",
       "    .dataframe tbody tr th {\n",
       "        vertical-align: top;\n",
       "    }\n",
       "\n",
       "    .dataframe thead th {\n",
       "        text-align: right;\n",
       "    }\n",
       "</style>\n",
       "<table border=\"1\" class=\"dataframe\">\n",
       "  <thead>\n",
       "    <tr style=\"text-align: right;\">\n",
       "      <th></th>\n",
       "      <th>transactionId</th>\n",
       "      <th>visitorId</th>\n",
       "      <th>date</th>\n",
       "      <th>revenue</th>\n",
       "      <th>group</th>\n",
       "    </tr>\n",
       "  </thead>\n",
       "  <tbody>\n",
       "    <tr>\n",
       "      <td>425</td>\n",
       "      <td>590470918</td>\n",
       "      <td>1920142716</td>\n",
       "      <td>2019-08-19</td>\n",
       "      <td>1294500</td>\n",
       "      <td>B</td>\n",
       "    </tr>\n",
       "    <tr>\n",
       "      <td>1196</td>\n",
       "      <td>3936777065</td>\n",
       "      <td>2108080724</td>\n",
       "      <td>2019-08-15</td>\n",
       "      <td>202740</td>\n",
       "      <td>B</td>\n",
       "    </tr>\n",
       "    <tr>\n",
       "      <td>1136</td>\n",
       "      <td>666610489</td>\n",
       "      <td>1307669133</td>\n",
       "      <td>2019-08-13</td>\n",
       "      <td>92550</td>\n",
       "      <td>A</td>\n",
       "    </tr>\n",
       "    <tr>\n",
       "      <td>744</td>\n",
       "      <td>3668308183</td>\n",
       "      <td>888512513</td>\n",
       "      <td>2019-08-27</td>\n",
       "      <td>86620</td>\n",
       "      <td>B</td>\n",
       "    </tr>\n",
       "    <tr>\n",
       "      <td>743</td>\n",
       "      <td>3603576309</td>\n",
       "      <td>4133034833</td>\n",
       "      <td>2019-08-09</td>\n",
       "      <td>67990</td>\n",
       "      <td>A</td>\n",
       "    </tr>\n",
       "    <tr>\n",
       "      <td>1103</td>\n",
       "      <td>1348774318</td>\n",
       "      <td>1164614297</td>\n",
       "      <td>2019-08-12</td>\n",
       "      <td>66350</td>\n",
       "      <td>A</td>\n",
       "    </tr>\n",
       "    <tr>\n",
       "      <td>1099</td>\n",
       "      <td>316924019</td>\n",
       "      <td>148427295</td>\n",
       "      <td>2019-08-12</td>\n",
       "      <td>65710</td>\n",
       "      <td>A</td>\n",
       "    </tr>\n",
       "    <tr>\n",
       "      <td>949</td>\n",
       "      <td>1347999392</td>\n",
       "      <td>887908475</td>\n",
       "      <td>2019-08-21</td>\n",
       "      <td>60450</td>\n",
       "      <td>A</td>\n",
       "    </tr>\n",
       "    <tr>\n",
       "      <td>940</td>\n",
       "      <td>2420050534</td>\n",
       "      <td>4003628586</td>\n",
       "      <td>2019-08-08</td>\n",
       "      <td>58550</td>\n",
       "      <td>B</td>\n",
       "    </tr>\n",
       "    <tr>\n",
       "      <td>131</td>\n",
       "      <td>3163614039</td>\n",
       "      <td>2254586615</td>\n",
       "      <td>2019-08-22</td>\n",
       "      <td>53904</td>\n",
       "      <td>A</td>\n",
       "    </tr>\n",
       "  </tbody>\n",
       "</table>\n",
       "</div>"
      ],
      "text/plain": [
       "      transactionId   visitorId       date  revenue group\n",
       "425       590470918  1920142716 2019-08-19  1294500     B\n",
       "1196     3936777065  2108080724 2019-08-15   202740     B\n",
       "1136      666610489  1307669133 2019-08-13    92550     A\n",
       "744      3668308183   888512513 2019-08-27    86620     B\n",
       "743      3603576309  4133034833 2019-08-09    67990     A\n",
       "1103     1348774318  1164614297 2019-08-12    66350     A\n",
       "1099      316924019   148427295 2019-08-12    65710     A\n",
       "949      1347999392   887908475 2019-08-21    60450     A\n",
       "940      2420050534  4003628586 2019-08-08    58550     B\n",
       "131      3163614039  2254586615 2019-08-22    53904     A"
      ]
     },
     "execution_count": 47,
     "metadata": {},
     "output_type": "execute_result"
    }
   ],
   "source": [
    "orders.sort_values(by='revenue', ascending=False).head(10)"
   ]
  },
  {
   "cell_type": "code",
   "execution_count": 48,
   "metadata": {},
   "outputs": [
    {
     "data": {
      "image/png": "[encoded data removed]",
      "text/plain": [
       "<Figure size 648x360 with 1 Axes>"
      ]
     },
     "metadata": {
      "needs_background": "light"
     },
     "output_type": "display_data"
    }
   ],
   "source": [
    "x_values = pd.Series(range(0, len(orders['revenue'])))\n",
    "plt.figure(figsize=(9,5))\n",
    "plt.scatter(x_values, orders['revenue'])\n",
    "plt.title('Точечный график стоимостей заказов')\n",
    "plt.xlabel('Распределение заказов')\n",
    "plt.ylabel('Стоимость заказов')\n",
    "plt.show()"
   ]
  },
  {
   "cell_type": "markdown",
   "metadata": {},
   "source": [
    "* Заказов со стоимостью выше 100 000 всего 2, это явно выбросы. Преположим, что 100 000 это граница для стоимости заказов, выясним это. "
   ]
  },
  {
   "cell_type": "markdown",
   "metadata": {},
   "source": [
    "#### 9. Посчитаем 95-й и 99-й перцентили стоимости заказов. Выберем границу для определения аномальных заказов."
   ]
  },
  {
   "cell_type": "code",
   "execution_count": 49,
   "metadata": {},
   "outputs": [
    {
     "name": "stdout",
     "output_type": "stream",
     "text": [
      "[26785. 53904.]\n"
     ]
    }
   ],
   "source": [
    "print(np.percentile(orders['revenue'], [95, 99]))"
   ]
  },
  {
   "cell_type": "markdown",
   "metadata": {},
   "source": [
    "* Только у 5% заказов стоимость выше 26 785, а у 1% выше 53 904. Таким образом, логичо взять за верхнюю границу стоимости заказов 26 785."
   ]
  },
  {
   "cell_type": "markdown",
   "metadata": {},
   "source": [
    "#### 10. Посчитаем статистическую значимость различий в конверсии между группами по «сырым» данным. Сделаем выводы и предположения."
   ]
  },
  {
   "cell_type": "markdown",
   "metadata": {},
   "source": [
    "* Для проведения подсчетов подготовим данные:"
   ]
  },
  {
   "cell_type": "code",
   "execution_count": 50,
   "metadata": {},
   "outputs": [
    {
     "data": {
      "text/html": [
       "<div>\n",
       "<style scoped>\n",
       "    .dataframe tbody tr th:only-of-type {\n",
       "        vertical-align: middle;\n",
       "    }\n",
       "\n",
       "    .dataframe tbody tr th {\n",
       "        vertical-align: top;\n",
       "    }\n",
       "\n",
       "    .dataframe thead th {\n",
       "        text-align: right;\n",
       "    }\n",
       "</style>\n",
       "<table border=\"1\" class=\"dataframe\">\n",
       "  <thead>\n",
       "    <tr style=\"text-align: right;\">\n",
       "      <th></th>\n",
       "      <th>date</th>\n",
       "      <th>group</th>\n",
       "      <th>visitors</th>\n",
       "    </tr>\n",
       "  </thead>\n",
       "  <tbody>\n",
       "    <tr>\n",
       "      <td>0</td>\n",
       "      <td>2019-08-01</td>\n",
       "      <td>A</td>\n",
       "      <td>719</td>\n",
       "    </tr>\n",
       "    <tr>\n",
       "      <td>1</td>\n",
       "      <td>2019-08-02</td>\n",
       "      <td>A</td>\n",
       "      <td>619</td>\n",
       "    </tr>\n",
       "    <tr>\n",
       "      <td>2</td>\n",
       "      <td>2019-08-03</td>\n",
       "      <td>A</td>\n",
       "      <td>507</td>\n",
       "    </tr>\n",
       "    <tr>\n",
       "      <td>3</td>\n",
       "      <td>2019-08-04</td>\n",
       "      <td>A</td>\n",
       "      <td>717</td>\n",
       "    </tr>\n",
       "    <tr>\n",
       "      <td>4</td>\n",
       "      <td>2019-08-05</td>\n",
       "      <td>A</td>\n",
       "      <td>756</td>\n",
       "    </tr>\n",
       "  </tbody>\n",
       "</table>\n",
       "</div>"
      ],
      "text/plain": [
       "        date group  visitors\n",
       "0 2019-08-01     A       719\n",
       "1 2019-08-02     A       619\n",
       "2 2019-08-03     A       507\n",
       "3 2019-08-04     A       717\n",
       "4 2019-08-05     A       756"
      ]
     },
     "execution_count": 50,
     "metadata": {},
     "output_type": "execute_result"
    }
   ],
   "source": [
    "visitors.head()"
   ]
  },
  {
   "cell_type": "markdown",
   "metadata": {},
   "source": [
    "Посчитаем кумулятивное количество пользователей по группам."
   ]
  },
  {
   "cell_type": "code",
   "execution_count": 51,
   "metadata": {},
   "outputs": [],
   "source": [
    "visitorsADaily = visitors[visitors['group'] == 'A'][['date', 'visitors']]\n",
    "visitorsADaily.columns = ['date', 'visitorsPerDateA']"
   ]
  },
  {
   "cell_type": "code",
   "execution_count": 52,
   "metadata": {},
   "outputs": [],
   "source": [
    "visitorsACummulative = visitorsADaily.apply(\n",
    "    lambda x: visitorsADaily[visitorsADaily['date'] <= x['date']].agg(\n",
    "        {'date': 'max', 'visitorsPerDateA': 'sum'}\n",
    "    ),\n",
    "    axis=1,\n",
    ")\n",
    "visitorsACummulative.columns = ['date', 'visitorsCummulativeA']"
   ]
  },
  {
   "cell_type": "code",
   "execution_count": 53,
   "metadata": {},
   "outputs": [
    {
     "data": {
      "text/html": [
       "<div>\n",
       "<style scoped>\n",
       "    .dataframe tbody tr th:only-of-type {\n",
       "        vertical-align: middle;\n",
       "    }\n",
       "\n",
       "    .dataframe tbody tr th {\n",
       "        vertical-align: top;\n",
       "    }\n",
       "\n",
       "    .dataframe thead th {\n",
       "        text-align: right;\n",
       "    }\n",
       "</style>\n",
       "<table border=\"1\" class=\"dataframe\">\n",
       "  <thead>\n",
       "    <tr style=\"text-align: right;\">\n",
       "      <th></th>\n",
       "      <th>date</th>\n",
       "      <th>visitorsCummulativeA</th>\n",
       "    </tr>\n",
       "  </thead>\n",
       "  <tbody>\n",
       "    <tr>\n",
       "      <td>0</td>\n",
       "      <td>2019-08-01</td>\n",
       "      <td>719</td>\n",
       "    </tr>\n",
       "    <tr>\n",
       "      <td>1</td>\n",
       "      <td>2019-08-02</td>\n",
       "      <td>1338</td>\n",
       "    </tr>\n",
       "    <tr>\n",
       "      <td>2</td>\n",
       "      <td>2019-08-03</td>\n",
       "      <td>1845</td>\n",
       "    </tr>\n",
       "    <tr>\n",
       "      <td>3</td>\n",
       "      <td>2019-08-04</td>\n",
       "      <td>2562</td>\n",
       "    </tr>\n",
       "    <tr>\n",
       "      <td>4</td>\n",
       "      <td>2019-08-05</td>\n",
       "      <td>3318</td>\n",
       "    </tr>\n",
       "  </tbody>\n",
       "</table>\n",
       "</div>"
      ],
      "text/plain": [
       "        date  visitorsCummulativeA\n",
       "0 2019-08-01                   719\n",
       "1 2019-08-02                  1338\n",
       "2 2019-08-03                  1845\n",
       "3 2019-08-04                  2562\n",
       "4 2019-08-05                  3318"
      ]
     },
     "execution_count": 53,
     "metadata": {},
     "output_type": "execute_result"
    }
   ],
   "source": [
    "visitorsACummulative.head()"
   ]
  },
  {
   "cell_type": "code",
   "execution_count": 54,
   "metadata": {},
   "outputs": [],
   "source": [
    "visitorsBDaily = visitors[visitors['group'] == 'B'][['date', 'visitors']]\n",
    "visitorsBDaily.columns = ['date', 'visitorsPerDateB']"
   ]
  },
  {
   "cell_type": "code",
   "execution_count": 55,
   "metadata": {},
   "outputs": [],
   "source": [
    "visitorsBCummulative = visitorsBDaily.apply(\n",
    "    lambda x: visitorsBDaily[visitorsBDaily['date'] <= x['date']].agg(\n",
    "        {'date': 'max', 'visitorsPerDateB': 'sum'}\n",
    "    ),\n",
    "    axis=1,\n",
    ")\n",
    "visitorsBCummulative.columns = ['date', 'visitorsCummulativeB']"
   ]
  },
  {
   "cell_type": "markdown",
   "metadata": {},
   "source": [
    "Посчитаем кумулятивное количество заказов и выручку по каждой группе."
   ]
  },
  {
   "cell_type": "code",
   "execution_count": 56,
   "metadata": {},
   "outputs": [
    {
     "data": {
      "text/html": [
       "<div>\n",
       "<style scoped>\n",
       "    .dataframe tbody tr th:only-of-type {\n",
       "        vertical-align: middle;\n",
       "    }\n",
       "\n",
       "    .dataframe tbody tr th {\n",
       "        vertical-align: top;\n",
       "    }\n",
       "\n",
       "    .dataframe thead th {\n",
       "        text-align: right;\n",
       "    }\n",
       "</style>\n",
       "<table border=\"1\" class=\"dataframe\">\n",
       "  <thead>\n",
       "    <tr style=\"text-align: right;\">\n",
       "      <th></th>\n",
       "      <th>transactionId</th>\n",
       "      <th>visitorId</th>\n",
       "      <th>date</th>\n",
       "      <th>revenue</th>\n",
       "      <th>group</th>\n",
       "    </tr>\n",
       "  </thead>\n",
       "  <tbody>\n",
       "    <tr>\n",
       "      <td>0</td>\n",
       "      <td>3667963787</td>\n",
       "      <td>3312258926</td>\n",
       "      <td>2019-08-15</td>\n",
       "      <td>1650</td>\n",
       "      <td>B</td>\n",
       "    </tr>\n",
       "    <tr>\n",
       "      <td>1</td>\n",
       "      <td>2804400009</td>\n",
       "      <td>3642806036</td>\n",
       "      <td>2019-08-15</td>\n",
       "      <td>730</td>\n",
       "      <td>B</td>\n",
       "    </tr>\n",
       "    <tr>\n",
       "      <td>3</td>\n",
       "      <td>3797467345</td>\n",
       "      <td>1196621759</td>\n",
       "      <td>2019-08-15</td>\n",
       "      <td>9759</td>\n",
       "      <td>B</td>\n",
       "    </tr>\n",
       "    <tr>\n",
       "      <td>4</td>\n",
       "      <td>2282983706</td>\n",
       "      <td>2322279887</td>\n",
       "      <td>2019-08-15</td>\n",
       "      <td>2308</td>\n",
       "      <td>B</td>\n",
       "    </tr>\n",
       "    <tr>\n",
       "      <td>5</td>\n",
       "      <td>182168103</td>\n",
       "      <td>935554773</td>\n",
       "      <td>2019-08-15</td>\n",
       "      <td>2210</td>\n",
       "      <td>B</td>\n",
       "    </tr>\n",
       "  </tbody>\n",
       "</table>\n",
       "</div>"
      ],
      "text/plain": [
       "   transactionId   visitorId       date  revenue group\n",
       "0     3667963787  3312258926 2019-08-15     1650     B\n",
       "1     2804400009  3642806036 2019-08-15      730     B\n",
       "3     3797467345  1196621759 2019-08-15     9759     B\n",
       "4     2282983706  2322279887 2019-08-15     2308     B\n",
       "5      182168103   935554773 2019-08-15     2210     B"
      ]
     },
     "execution_count": 56,
     "metadata": {},
     "output_type": "execute_result"
    }
   ],
   "source": [
    "orders.head()"
   ]
  },
  {
   "cell_type": "code",
   "execution_count": 57,
   "metadata": {},
   "outputs": [],
   "source": [
    "ordersADaily = (\n",
    "    orders[orders['group'] == 'A'][['date', 'transactionId', 'visitorId', 'revenue']]\n",
    "    .groupby('date', as_index=False)\n",
    "    .agg({'transactionId': pd.Series.nunique, 'revenue': 'sum'})\n",
    ")\n",
    "ordersADaily.columns = ['date', 'ordersPerDateA', 'revenuePerDateA']"
   ]
  },
  {
   "cell_type": "code",
   "execution_count": 58,
   "metadata": {},
   "outputs": [
    {
     "data": {
      "text/html": [
       "<div>\n",
       "<style scoped>\n",
       "    .dataframe tbody tr th:only-of-type {\n",
       "        vertical-align: middle;\n",
       "    }\n",
       "\n",
       "    .dataframe tbody tr th {\n",
       "        vertical-align: top;\n",
       "    }\n",
       "\n",
       "    .dataframe thead th {\n",
       "        text-align: right;\n",
       "    }\n",
       "</style>\n",
       "<table border=\"1\" class=\"dataframe\">\n",
       "  <thead>\n",
       "    <tr style=\"text-align: right;\">\n",
       "      <th></th>\n",
       "      <th>date</th>\n",
       "      <th>ordersPerDateA</th>\n",
       "      <th>revenuePerDateA</th>\n",
       "    </tr>\n",
       "  </thead>\n",
       "  <tbody>\n",
       "    <tr>\n",
       "      <td>0</td>\n",
       "      <td>2019-08-01</td>\n",
       "      <td>23</td>\n",
       "      <td>142779</td>\n",
       "    </tr>\n",
       "    <tr>\n",
       "      <td>1</td>\n",
       "      <td>2019-08-02</td>\n",
       "      <td>19</td>\n",
       "      <td>91602</td>\n",
       "    </tr>\n",
       "    <tr>\n",
       "      <td>2</td>\n",
       "      <td>2019-08-03</td>\n",
       "      <td>24</td>\n",
       "      <td>112473</td>\n",
       "    </tr>\n",
       "    <tr>\n",
       "      <td>3</td>\n",
       "      <td>2019-08-04</td>\n",
       "      <td>11</td>\n",
       "      <td>41176</td>\n",
       "    </tr>\n",
       "    <tr>\n",
       "      <td>4</td>\n",
       "      <td>2019-08-05</td>\n",
       "      <td>22</td>\n",
       "      <td>86383</td>\n",
       "    </tr>\n",
       "  </tbody>\n",
       "</table>\n",
       "</div>"
      ],
      "text/plain": [
       "        date  ordersPerDateA  revenuePerDateA\n",
       "0 2019-08-01              23           142779\n",
       "1 2019-08-02              19            91602\n",
       "2 2019-08-03              24           112473\n",
       "3 2019-08-04              11            41176\n",
       "4 2019-08-05              22            86383"
      ]
     },
     "execution_count": 58,
     "metadata": {},
     "output_type": "execute_result"
    }
   ],
   "source": [
    "ordersADaily.head()"
   ]
  },
  {
   "cell_type": "code",
   "execution_count": 59,
   "metadata": {},
   "outputs": [],
   "source": [
    "ordersACummulative = ordersADaily.apply(\n",
    "    lambda x: ordersADaily[ordersADaily['date'] <= x['date']].agg(\n",
    "        {'date': 'max', 'ordersPerDateA': 'sum', 'revenuePerDateA': 'sum'}\n",
    "    ),\n",
    "    axis=1,\n",
    ").sort_values(by=['date'])\n",
    "ordersACummulative.columns = ['date', 'ordersCummulativeA', 'revenueCummulativeA',]"
   ]
  },
  {
   "cell_type": "code",
   "execution_count": 60,
   "metadata": {},
   "outputs": [
    {
     "data": {
      "text/html": [
       "<div>\n",
       "<style scoped>\n",
       "    .dataframe tbody tr th:only-of-type {\n",
       "        vertical-align: middle;\n",
       "    }\n",
       "\n",
       "    .dataframe tbody tr th {\n",
       "        vertical-align: top;\n",
       "    }\n",
       "\n",
       "    .dataframe thead th {\n",
       "        text-align: right;\n",
       "    }\n",
       "</style>\n",
       "<table border=\"1\" class=\"dataframe\">\n",
       "  <thead>\n",
       "    <tr style=\"text-align: right;\">\n",
       "      <th></th>\n",
       "      <th>date</th>\n",
       "      <th>ordersCummulativeA</th>\n",
       "      <th>revenueCummulativeA</th>\n",
       "    </tr>\n",
       "  </thead>\n",
       "  <tbody>\n",
       "    <tr>\n",
       "      <td>0</td>\n",
       "      <td>2019-08-01</td>\n",
       "      <td>23</td>\n",
       "      <td>142779</td>\n",
       "    </tr>\n",
       "    <tr>\n",
       "      <td>1</td>\n",
       "      <td>2019-08-02</td>\n",
       "      <td>42</td>\n",
       "      <td>234381</td>\n",
       "    </tr>\n",
       "    <tr>\n",
       "      <td>2</td>\n",
       "      <td>2019-08-03</td>\n",
       "      <td>66</td>\n",
       "      <td>346854</td>\n",
       "    </tr>\n",
       "    <tr>\n",
       "      <td>3</td>\n",
       "      <td>2019-08-04</td>\n",
       "      <td>77</td>\n",
       "      <td>388030</td>\n",
       "    </tr>\n",
       "    <tr>\n",
       "      <td>4</td>\n",
       "      <td>2019-08-05</td>\n",
       "      <td>99</td>\n",
       "      <td>474413</td>\n",
       "    </tr>\n",
       "  </tbody>\n",
       "</table>\n",
       "</div>"
      ],
      "text/plain": [
       "        date  ordersCummulativeA  revenueCummulativeA\n",
       "0 2019-08-01                  23               142779\n",
       "1 2019-08-02                  42               234381\n",
       "2 2019-08-03                  66               346854\n",
       "3 2019-08-04                  77               388030\n",
       "4 2019-08-05                  99               474413"
      ]
     },
     "execution_count": 60,
     "metadata": {},
     "output_type": "execute_result"
    }
   ],
   "source": [
    "ordersACummulative.head()"
   ]
  },
  {
   "cell_type": "code",
   "execution_count": 61,
   "metadata": {},
   "outputs": [],
   "source": [
    "ordersBDaily = (\n",
    "    orders[orders['group'] == 'B'][['date', 'transactionId', 'visitorId', 'revenue']]\n",
    "    .groupby('date', as_index=False)\n",
    "    .agg({'transactionId': pd.Series.nunique, 'revenue': 'sum'})\n",
    ")\n",
    "ordersBDaily.columns = ['date', 'ordersPerDateB', 'revenuePerDateB']"
   ]
  },
  {
   "cell_type": "code",
   "execution_count": 62,
   "metadata": {},
   "outputs": [
    {
     "data": {
      "text/html": [
       "<div>\n",
       "<style scoped>\n",
       "    .dataframe tbody tr th:only-of-type {\n",
       "        vertical-align: middle;\n",
       "    }\n",
       "\n",
       "    .dataframe tbody tr th {\n",
       "        vertical-align: top;\n",
       "    }\n",
       "\n",
       "    .dataframe thead th {\n",
       "        text-align: right;\n",
       "    }\n",
       "</style>\n",
       "<table border=\"1\" class=\"dataframe\">\n",
       "  <thead>\n",
       "    <tr style=\"text-align: right;\">\n",
       "      <th></th>\n",
       "      <th>date</th>\n",
       "      <th>ordersPerDateB</th>\n",
       "      <th>revenuePerDateB</th>\n",
       "    </tr>\n",
       "  </thead>\n",
       "  <tbody>\n",
       "    <tr>\n",
       "      <td>0</td>\n",
       "      <td>2019-08-01</td>\n",
       "      <td>17</td>\n",
       "      <td>59758</td>\n",
       "    </tr>\n",
       "    <tr>\n",
       "      <td>1</td>\n",
       "      <td>2019-08-02</td>\n",
       "      <td>23</td>\n",
       "      <td>162043</td>\n",
       "    </tr>\n",
       "    <tr>\n",
       "      <td>2</td>\n",
       "      <td>2019-08-03</td>\n",
       "      <td>14</td>\n",
       "      <td>67049</td>\n",
       "    </tr>\n",
       "    <tr>\n",
       "      <td>3</td>\n",
       "      <td>2019-08-04</td>\n",
       "      <td>14</td>\n",
       "      <td>96890</td>\n",
       "    </tr>\n",
       "    <tr>\n",
       "      <td>4</td>\n",
       "      <td>2019-08-05</td>\n",
       "      <td>21</td>\n",
       "      <td>89908</td>\n",
       "    </tr>\n",
       "  </tbody>\n",
       "</table>\n",
       "</div>"
      ],
      "text/plain": [
       "        date  ordersPerDateB  revenuePerDateB\n",
       "0 2019-08-01              17            59758\n",
       "1 2019-08-02              23           162043\n",
       "2 2019-08-03              14            67049\n",
       "3 2019-08-04              14            96890\n",
       "4 2019-08-05              21            89908"
      ]
     },
     "execution_count": 62,
     "metadata": {},
     "output_type": "execute_result"
    }
   ],
   "source": [
    "ordersBDaily.head()"
   ]
  },
  {
   "cell_type": "code",
   "execution_count": 63,
   "metadata": {},
   "outputs": [],
   "source": [
    "ordersBCummulative = ordersBDaily.apply(\n",
    "    lambda x: ordersBDaily[ordersBDaily['date'] <= x['date']].agg(\n",
    "        {'date': 'max', 'ordersPerDateB': 'sum', 'revenuePerDateB': 'sum'}\n",
    "    ),\n",
    "    axis=1,\n",
    ").sort_values(by=['date'])\n",
    "ordersBCummulative.columns = ['date', 'ordersCummulativeB', 'revenueCummulativeB',]"
   ]
  },
  {
   "cell_type": "code",
   "execution_count": 64,
   "metadata": {},
   "outputs": [
    {
     "data": {
      "text/html": [
       "<div>\n",
       "<style scoped>\n",
       "    .dataframe tbody tr th:only-of-type {\n",
       "        vertical-align: middle;\n",
       "    }\n",
       "\n",
       "    .dataframe tbody tr th {\n",
       "        vertical-align: top;\n",
       "    }\n",
       "\n",
       "    .dataframe thead th {\n",
       "        text-align: right;\n",
       "    }\n",
       "</style>\n",
       "<table border=\"1\" class=\"dataframe\">\n",
       "  <thead>\n",
       "    <tr style=\"text-align: right;\">\n",
       "      <th></th>\n",
       "      <th>date</th>\n",
       "      <th>ordersCummulativeB</th>\n",
       "      <th>revenueCummulativeB</th>\n",
       "    </tr>\n",
       "  </thead>\n",
       "  <tbody>\n",
       "    <tr>\n",
       "      <td>0</td>\n",
       "      <td>2019-08-01</td>\n",
       "      <td>17</td>\n",
       "      <td>59758</td>\n",
       "    </tr>\n",
       "    <tr>\n",
       "      <td>1</td>\n",
       "      <td>2019-08-02</td>\n",
       "      <td>40</td>\n",
       "      <td>221801</td>\n",
       "    </tr>\n",
       "    <tr>\n",
       "      <td>2</td>\n",
       "      <td>2019-08-03</td>\n",
       "      <td>54</td>\n",
       "      <td>288850</td>\n",
       "    </tr>\n",
       "    <tr>\n",
       "      <td>3</td>\n",
       "      <td>2019-08-04</td>\n",
       "      <td>68</td>\n",
       "      <td>385740</td>\n",
       "    </tr>\n",
       "    <tr>\n",
       "      <td>4</td>\n",
       "      <td>2019-08-05</td>\n",
       "      <td>89</td>\n",
       "      <td>475648</td>\n",
       "    </tr>\n",
       "  </tbody>\n",
       "</table>\n",
       "</div>"
      ],
      "text/plain": [
       "        date  ordersCummulativeB  revenueCummulativeB\n",
       "0 2019-08-01                  17                59758\n",
       "1 2019-08-02                  40               221801\n",
       "2 2019-08-03                  54               288850\n",
       "3 2019-08-04                  68               385740\n",
       "4 2019-08-05                  89               475648"
      ]
     },
     "execution_count": 64,
     "metadata": {},
     "output_type": "execute_result"
    }
   ],
   "source": [
    "ordersBCummulative.head()"
   ]
  },
  {
   "cell_type": "markdown",
   "metadata": {},
   "source": [
    "Объеденим данные по пользователям и заказам обеих групп."
   ]
  },
  {
   "cell_type": "code",
   "execution_count": 65,
   "metadata": {},
   "outputs": [],
   "source": [
    "df = (\n",
    "    ordersADaily.merge(\n",
    "        ordersBDaily, left_on='date', right_on='date', how='left'\n",
    "    )\n",
    "    .merge(ordersACummulative, left_on='date', right_on='date', how='left')\n",
    "    .merge(ordersBCummulative, left_on='date', right_on='date', how='left')\n",
    "    .merge(visitorsADaily, left_on='date', right_on='date', how='left')\n",
    "    .merge(visitorsBDaily, left_on='date', right_on='date', how='left')\n",
    "    .merge(visitorsACummulative, left_on='date', right_on='date', how='left')\n",
    "    .merge(visitorsBCummulative, left_on='date', right_on='date', how='left')\n",
    ")\n"
   ]
  },
  {
   "cell_type": "code",
   "execution_count": 66,
   "metadata": {},
   "outputs": [
    {
     "data": {
      "text/html": [
       "<div>\n",
       "<style scoped>\n",
       "    .dataframe tbody tr th:only-of-type {\n",
       "        vertical-align: middle;\n",
       "    }\n",
       "\n",
       "    .dataframe tbody tr th {\n",
       "        vertical-align: top;\n",
       "    }\n",
       "\n",
       "    .dataframe thead th {\n",
       "        text-align: right;\n",
       "    }\n",
       "</style>\n",
       "<table border=\"1\" class=\"dataframe\">\n",
       "  <thead>\n",
       "    <tr style=\"text-align: right;\">\n",
       "      <th></th>\n",
       "      <th>date</th>\n",
       "      <th>ordersPerDateA</th>\n",
       "      <th>revenuePerDateA</th>\n",
       "      <th>ordersPerDateB</th>\n",
       "      <th>revenuePerDateB</th>\n",
       "      <th>ordersCummulativeA</th>\n",
       "      <th>revenueCummulativeA</th>\n",
       "      <th>ordersCummulativeB</th>\n",
       "      <th>revenueCummulativeB</th>\n",
       "      <th>visitorsPerDateA</th>\n",
       "      <th>visitorsPerDateB</th>\n",
       "      <th>visitorsCummulativeA</th>\n",
       "      <th>visitorsCummulativeB</th>\n",
       "    </tr>\n",
       "  </thead>\n",
       "  <tbody>\n",
       "    <tr>\n",
       "      <td>0</td>\n",
       "      <td>2019-08-01</td>\n",
       "      <td>23</td>\n",
       "      <td>142779</td>\n",
       "      <td>17</td>\n",
       "      <td>59758</td>\n",
       "      <td>23</td>\n",
       "      <td>142779</td>\n",
       "      <td>17</td>\n",
       "      <td>59758</td>\n",
       "      <td>719</td>\n",
       "      <td>713</td>\n",
       "      <td>719</td>\n",
       "      <td>713</td>\n",
       "    </tr>\n",
       "    <tr>\n",
       "      <td>1</td>\n",
       "      <td>2019-08-02</td>\n",
       "      <td>19</td>\n",
       "      <td>91602</td>\n",
       "      <td>23</td>\n",
       "      <td>162043</td>\n",
       "      <td>42</td>\n",
       "      <td>234381</td>\n",
       "      <td>40</td>\n",
       "      <td>221801</td>\n",
       "      <td>619</td>\n",
       "      <td>581</td>\n",
       "      <td>1338</td>\n",
       "      <td>1294</td>\n",
       "    </tr>\n",
       "    <tr>\n",
       "      <td>2</td>\n",
       "      <td>2019-08-03</td>\n",
       "      <td>24</td>\n",
       "      <td>112473</td>\n",
       "      <td>14</td>\n",
       "      <td>67049</td>\n",
       "      <td>66</td>\n",
       "      <td>346854</td>\n",
       "      <td>54</td>\n",
       "      <td>288850</td>\n",
       "      <td>507</td>\n",
       "      <td>509</td>\n",
       "      <td>1845</td>\n",
       "      <td>1803</td>\n",
       "    </tr>\n",
       "    <tr>\n",
       "      <td>3</td>\n",
       "      <td>2019-08-04</td>\n",
       "      <td>11</td>\n",
       "      <td>41176</td>\n",
       "      <td>14</td>\n",
       "      <td>96890</td>\n",
       "      <td>77</td>\n",
       "      <td>388030</td>\n",
       "      <td>68</td>\n",
       "      <td>385740</td>\n",
       "      <td>717</td>\n",
       "      <td>770</td>\n",
       "      <td>2562</td>\n",
       "      <td>2573</td>\n",
       "    </tr>\n",
       "    <tr>\n",
       "      <td>4</td>\n",
       "      <td>2019-08-05</td>\n",
       "      <td>22</td>\n",
       "      <td>86383</td>\n",
       "      <td>21</td>\n",
       "      <td>89908</td>\n",
       "      <td>99</td>\n",
       "      <td>474413</td>\n",
       "      <td>89</td>\n",
       "      <td>475648</td>\n",
       "      <td>756</td>\n",
       "      <td>707</td>\n",
       "      <td>3318</td>\n",
       "      <td>3280</td>\n",
       "    </tr>\n",
       "  </tbody>\n",
       "</table>\n",
       "</div>"
      ],
      "text/plain": [
       "        date  ordersPerDateA  revenuePerDateA  ordersPerDateB  \\\n",
       "0 2019-08-01              23           142779              17   \n",
       "1 2019-08-02              19            91602              23   \n",
       "2 2019-08-03              24           112473              14   \n",
       "3 2019-08-04              11            41176              14   \n",
       "4 2019-08-05              22            86383              21   \n",
       "\n",
       "   revenuePerDateB  ordersCummulativeA  revenueCummulativeA  \\\n",
       "0            59758                  23               142779   \n",
       "1           162043                  42               234381   \n",
       "2            67049                  66               346854   \n",
       "3            96890                  77               388030   \n",
       "4            89908                  99               474413   \n",
       "\n",
       "   ordersCummulativeB  revenueCummulativeB  visitorsPerDateA  \\\n",
       "0                  17                59758               719   \n",
       "1                  40               221801               619   \n",
       "2                  54               288850               507   \n",
       "3                  68               385740               717   \n",
       "4                  89               475648               756   \n",
       "\n",
       "   visitorsPerDateB  visitorsCummulativeA  visitorsCummulativeB  \n",
       "0               713                   719                   713  \n",
       "1               581                  1338                  1294  \n",
       "2               509                  1845                  1803  \n",
       "3               770                  2562                  2573  \n",
       "4               707                  3318                  3280  "
      ]
     },
     "execution_count": 66,
     "metadata": {},
     "output_type": "execute_result"
    }
   ],
   "source": [
    "df.head()"
   ]
  },
  {
   "cell_type": "markdown",
   "metadata": {},
   "source": [
    "Найдем количество заказов соответствующее каждому пользователю для каждой группы."
   ]
  },
  {
   "cell_type": "code",
   "execution_count": 67,
   "metadata": {},
   "outputs": [],
   "source": [
    "ordersByUsersA = (\n",
    "    orders[orders['group'] == 'A']\n",
    "    .groupby('visitorId', as_index=False)\n",
    "    .agg({'transactionId': pd.Series.nunique})\n",
    ")\n",
    "ordersByUsersA.columns = ['userId', 'orders']\n",
    "\n",
    "ordersByUsersB = (\n",
    "    orders[orders['group'] == 'B']\n",
    "    .groupby('visitorId', as_index=False)\n",
    "    .agg({'transactionId': pd.Series.nunique})\n",
    ")\n",
    "ordersByUsersB.columns = ['userId', 'orders']"
   ]
  },
  {
   "cell_type": "code",
   "execution_count": 68,
   "metadata": {},
   "outputs": [
    {
     "data": {
      "text/html": [
       "<div>\n",
       "<style scoped>\n",
       "    .dataframe tbody tr th:only-of-type {\n",
       "        vertical-align: middle;\n",
       "    }\n",
       "\n",
       "    .dataframe tbody tr th {\n",
       "        vertical-align: top;\n",
       "    }\n",
       "\n",
       "    .dataframe thead th {\n",
       "        text-align: right;\n",
       "    }\n",
       "</style>\n",
       "<table border=\"1\" class=\"dataframe\">\n",
       "  <thead>\n",
       "    <tr style=\"text-align: right;\">\n",
       "      <th></th>\n",
       "      <th>userId</th>\n",
       "      <th>orders</th>\n",
       "    </tr>\n",
       "  </thead>\n",
       "  <tbody>\n",
       "    <tr>\n",
       "      <td>0</td>\n",
       "      <td>5114589</td>\n",
       "      <td>1</td>\n",
       "    </tr>\n",
       "    <tr>\n",
       "      <td>1</td>\n",
       "      <td>6958315</td>\n",
       "      <td>1</td>\n",
       "    </tr>\n",
       "    <tr>\n",
       "      <td>2</td>\n",
       "      <td>39475350</td>\n",
       "      <td>1</td>\n",
       "    </tr>\n",
       "    <tr>\n",
       "      <td>3</td>\n",
       "      <td>47206413</td>\n",
       "      <td>1</td>\n",
       "    </tr>\n",
       "    <tr>\n",
       "      <td>4</td>\n",
       "      <td>48147722</td>\n",
       "      <td>1</td>\n",
       "    </tr>\n",
       "  </tbody>\n",
       "</table>\n",
       "</div>"
      ],
      "text/plain": [
       "     userId  orders\n",
       "0   5114589       1\n",
       "1   6958315       1\n",
       "2  39475350       1\n",
       "3  47206413       1\n",
       "4  48147722       1"
      ]
     },
     "execution_count": 68,
     "metadata": {},
     "output_type": "execute_result"
    }
   ],
   "source": [
    "ordersByUsersB.head()"
   ]
  },
  {
   "cell_type": "markdown",
   "metadata": {},
   "source": [
    "Добавим нули для пользователей,  не делавших заказы."
   ]
  },
  {
   "cell_type": "code",
   "execution_count": 69,
   "metadata": {},
   "outputs": [],
   "source": [
    "sampleA = pd.concat([ordersByUsersA['orders'], pd.Series(0, index=np.arange(df['visitorsPerDateA'].sum() - len(ordersByUsersA['orders'])), name='orders')],axis=0)\n",
    "\n",
    "sampleB = pd.concat([ordersByUsersB['orders'],pd.Series(0, index=np.arange(df['visitorsPerDateB'].sum() - len(ordersByUsersB['orders'])), name='orders')],axis=0)"
   ]
  },
  {
   "cell_type": "markdown",
   "metadata": {},
   "source": [
    "Посчитаем статистическую значимость различий конверсий между группами."
   ]
  },
  {
   "cell_type": "code",
   "execution_count": 70,
   "metadata": {},
   "outputs": [],
   "source": [
    "import scipy.stats as stats"
   ]
  },
  {
   "cell_type": "markdown",
   "metadata": {},
   "source": [
    "Сформулируем нулевую гипотезу о том, что конверсии не различаются значимо. Следовательно альтернативной будет гипотеза о различии конверсиий между группами А и В."
   ]
  },
  {
   "cell_type": "code",
   "execution_count": 71,
   "metadata": {},
   "outputs": [
    {
     "name": "stdout",
     "output_type": "stream",
     "text": [
      "0.01102\n"
     ]
    }
   ],
   "source": [
    "print(\"{0:.5f}\".format(stats.mannwhitneyu(sampleA, sampleB, alternative=\"two-sided\")[1]))"
   ]
  },
  {
   "cell_type": "markdown",
   "metadata": {},
   "source": [
    "* Р-значение меньше 0.05, поэтому отвергам нулевую гипотезу о том, что статистически значимых различий в конверсии между группами нет отвергаем. Посмотрим на относительный прирост конверсии группы В к А."
   ]
  },
  {
   "cell_type": "code",
   "execution_count": 72,
   "metadata": {},
   "outputs": [
    {
     "name": "stdout",
     "output_type": "stream",
     "text": [
      "16.0%\n"
     ]
    }
   ],
   "source": [
    "print(\"{0:.1%}\".format(\n",
    "    (df['ordersPerDateB'].sum()/df['visitorsPerDateB'].sum())/(df['ordersPerDateA'].sum()/df['visitorsPerDateA'].sum())-1)\n",
    ")"
   ]
  },
  {
   "cell_type": "markdown",
   "metadata": {},
   "source": [
    "* Прирост составил около 16%. Интересно, что покажет тест на \"очищенных\" данных."
   ]
  },
  {
   "cell_type": "markdown",
   "metadata": {},
   "source": [
    "#### 11. Посчитаем статистическую значимость различий в среднем чеке заказа между группами по «сырым» данным. Сделаем выводы и предположения."
   ]
  },
  {
   "cell_type": "markdown",
   "metadata": {},
   "source": [
    "Сформулируем нулевую гипотезу предположив, что средний чек между группами А и В значимо не различается. Следовательно, альтернативной гипотезой будет выступать предположение о значимом различии в среднем чеке между группами А и В."
   ]
  },
  {
   "cell_type": "code",
   "execution_count": 73,
   "metadata": {},
   "outputs": [
    {
     "name": "stdout",
     "output_type": "stream",
     "text": [
      "0.829\n"
     ]
    }
   ],
   "source": [
    "print('{0:.3f}'.format(stats.mannwhitneyu(\n",
    "    orders[orders['group']=='A']['revenue'], orders[orders['group']=='B']['revenue'], alternative=\"two-sided\")[1])\n",
    ")"
   ]
  },
  {
   "cell_type": "code",
   "execution_count": 74,
   "metadata": {},
   "outputs": [
    {
     "name": "stdout",
     "output_type": "stream",
     "text": [
      "28.7%\n"
     ]
    }
   ],
   "source": [
    "print(\"{0:.1%}\".format(orders[orders['group']=='B']['revenue'].mean() / orders[orders['group']=='A']['revenue'].mean() - 1)\n",
    ")"
   ]
  },
  {
   "cell_type": "markdown",
   "metadata": {},
   "source": [
    "* Р-значение больше 0.05, поэтому мы не можем отвергнуть нулевую гипотезу о том, что статистически значимых различий в среднем чеке между группами нет. При этом относительный прирост среднего чека составил больше 28%. Проверим данные без выбросов."
   ]
  },
  {
   "cell_type": "markdown",
   "metadata": {},
   "source": [
    "#### 12. Посчитаем статистическую значимость различий в конверсии между группами по «очищенным» данным. Сделаем выводы и предположения."
   ]
  },
  {
   "cell_type": "markdown",
   "metadata": {},
   "source": [
    "Найдем аномальных пользователей, то есть, совершивших более 2 заказов в каждой группе:"
   ]
  },
  {
   "cell_type": "code",
   "execution_count": 75,
   "metadata": {},
   "outputs": [],
   "source": [
    "usersWithManyOrders = pd.concat(\n",
    "    [\n",
    "        ordersByUsersA[ordersByUsersA['orders'] > 2]['userId'],\n",
    "        ordersByUsersB[ordersByUsersB['orders'] > 2]['userId']\n",
    "    ],\n",
    "    axis=0,\n",
    ")"
   ]
  },
  {
   "cell_type": "markdown",
   "metadata": {},
   "source": [
    "Добавим к аномальным пользователей с условием, что у них заказы дороже 28000:"
   ]
  },
  {
   "cell_type": "code",
   "execution_count": 76,
   "metadata": {},
   "outputs": [],
   "source": [
    "usersWithExpensiveOrders = orders[orders['revenue'] > 28000]['visitorId']\n",
    "abnormalUsers = (\n",
    "    pd.concat([usersWithManyOrders, usersWithExpensiveOrders], axis=0)\n",
    "    .drop_duplicates()\n",
    "    .sort_values()\n",
    ")"
   ]
  },
  {
   "cell_type": "code",
   "execution_count": 77,
   "metadata": {},
   "outputs": [
    {
     "data": {
      "text/plain": [
       "48"
      ]
     },
     "execution_count": 77,
     "metadata": {},
     "output_type": "execute_result"
    }
   ],
   "source": [
    "usersWithExpensiveOrders.count()"
   ]
  },
  {
   "cell_type": "markdown",
   "metadata": {},
   "source": [
    "Уберем аномальных пользователей, и подготовим \"очищенные\" данные для теста"
   ]
  },
  {
   "cell_type": "code",
   "execution_count": 78,
   "metadata": {},
   "outputs": [],
   "source": [
    "sampleAFiltered = pd.concat(\n",
    "    [\n",
    "        ordersByUsersA[\n",
    "            np.logical_not(ordersByUsersA['userId'].isin(abnormalUsers))\n",
    "        ]['orders'],\n",
    "        pd.Series(\n",
    "            0,\n",
    "            index=np.arange(\n",
    "                df['visitorsPerDateA'].sum() - len(ordersByUsersA['orders'])\n",
    "            ),\n",
    "            name='orders',\n",
    "        ),\n",
    "    ],\n",
    "    axis=0,\n",
    ")\n",
    "\n",
    "sampleBFiltered = pd.concat(\n",
    "    [\n",
    "        ordersByUsersB[\n",
    "            np.logical_not(ordersByUsersB['userId'].isin(abnormalUsers))\n",
    "        ]['orders'],\n",
    "        pd.Series(\n",
    "            0,\n",
    "            index=np.arange(\n",
    "                df['visitorsPerDateB'].sum() - len(ordersByUsersB['orders'])\n",
    "            ),\n",
    "            name='orders',\n",
    "        ),\n",
    "    ],\n",
    "    axis=0,\n",
    ") "
   ]
  },
  {
   "cell_type": "markdown",
   "metadata": {},
   "source": [
    "Проведем тест и выведем относительное изменение конверсии группы В относительно группы А, на \"очищенных\" данных"
   ]
  },
  {
   "cell_type": "markdown",
   "metadata": {},
   "source": [
    "Сформулируем нулевую гипотезу о том, что конверсии не различаются значимо. Следовательно альтернативной будет гипотеза о различии конверсиий между группами А и В."
   ]
  },
  {
   "cell_type": "code",
   "execution_count": 79,
   "metadata": {},
   "outputs": [
    {
     "name": "stdout",
     "output_type": "stream",
     "text": [
      "0.009\n",
      "18.9%\n"
     ]
    }
   ],
   "source": [
    "print('{0:.3f}'.format(stats.mannwhitneyu(sampleAFiltered, sampleBFiltered,  alternative=\"two-sided\")[1]))\n",
    "print('{0:.1%}'.format(sampleBFiltered.mean()/sampleAFiltered.mean()-1))"
   ]
  },
  {
   "cell_type": "markdown",
   "metadata": {},
   "source": [
    "Как и в ранее проведенном тесте с \"сырыми\" данными Р-значение ниже установленной значимости в 0.05. Поэтому отвергаем нулевую гипотезу и принимаем за верное утверждение о различии конверсии между группами. Причем, относительно различие составляет более 18% в пользу группы В."
   ]
  },
  {
   "cell_type": "markdown",
   "metadata": {},
   "source": [
    "#### 13. Посчитаем статистическую значимость различий в среднем чеке заказа между группами по «очищенным» данным. Сделаем выводы и предположения."
   ]
  },
  {
   "cell_type": "markdown",
   "metadata": {},
   "source": [
    "Сформулируем нулевую гипотезу предположив, что средний чек между группами А и В значимо не различается. Следовательно, альтернативной гипотезой будет выступать предположение о значимом различии в среднем чеке между группами А и В."
   ]
  },
  {
   "cell_type": "code",
   "execution_count": 80,
   "metadata": {},
   "outputs": [
    {
     "name": "stdout",
     "output_type": "stream",
     "text": [
      "0.762\n",
      "-2.2%\n"
     ]
    }
   ],
   "source": [
    "print(\"{0:.3f}\".format(\n",
    "    stats.mannwhitneyu(orders[np.logical_and(orders['group'] == 'A', np.logical_not(orders['visitorId'].isin(abnormalUsers)),)]['revenue'], orders[np.logical_and(orders['group'] == 'B', np.logical_not(orders['visitorId'].isin(abnormalUsers)),)]['revenue'], alternative=\"two-sided\")[1])\n",
    ")\n",
    "\n",
    "print(\n",
    "    \"{0:.1%}\".format(\n",
    "        orders[\n",
    "            np.logical_and(\n",
    "                orders['group'] == 'B',\n",
    "                np.logical_not(orders['visitorId'].isin(abnormalUsers)),\n",
    "            )\n",
    "        ]['revenue'].mean()\n",
    "        / orders[\n",
    "            np.logical_and(\n",
    "                orders['group'] == 'A',\n",
    "                np.logical_not(orders['visitorId'].isin(abnormalUsers)),\n",
    "            )\n",
    "        ]['revenue'].mean()\n",
    "        - 1\n",
    "    )\n",
    ")"
   ]
  },
  {
   "cell_type": "markdown",
   "metadata": {},
   "source": [
    "* Как и в ранее проведенном тесте с \"сырыми\" данными Р-значение выше установленной значимости в 0.05. Значит мы не можем отвергнуть нулевую гипотезу, то есть не можем утверждать, что различие в среднем чеке значимо. Это подтвержадется и посчитанной относительной величиной различия среднего чека, где группа В отстает на 2%."
   ]
  },
  {
   "cell_type": "markdown",
   "metadata": {},
   "source": [
    "#### 14. Примем решение по результатам теста."
   ]
  },
  {
   "cell_type": "markdown",
   "metadata": {},
   "source": [
    "На основании проведенного теста мы выявили, что конверсия группы В выше, чем у группы А, причем это различие значимо статистически. Также выявили, что во второй половине теста конверсии стабилизировались.  \n",
    "Со средним чеком ситуация другая, то есть статистически значимого различия не выявлено, даже после \"очищения\" данных, причем группа В хоть и незначительно, но уступает группе А.  \n",
    "В соответствии со сделанными выводами, следует остановить тест и признать победителем группу В только в одной метрике, то есть конверсии."
   ]
  },
  {
   "cell_type": "code",
   "execution_count": null,
   "metadata": {},
   "outputs": [],
   "source": []
  }
 ],
 "metadata": {
  "ExecuteTimeLog": [
   {
    "duration": 1794,
    "start_time": "2021-07-04T12:12:30.658Z"
   },
   {
    "duration": 203,
    "start_time": "2021-07-04T12:12:32.455Z"
   },
   {
    "duration": 26,
    "start_time": "2021-07-04T12:12:32.663Z"
   },
   {
    "duration": 6,
    "start_time": "2021-07-04T12:12:32.692Z"
   },
   {
    "duration": 13,
    "start_time": "2021-07-04T12:12:32.701Z"
   },
   {
    "duration": 48,
    "start_time": "2021-07-04T12:12:32.717Z"
   },
   {
    "duration": 18,
    "start_time": "2021-07-04T12:12:32.768Z"
   },
   {
    "duration": 683,
    "start_time": "2021-07-04T12:12:32.793Z"
   },
   {
    "duration": 16,
    "start_time": "2021-07-04T12:12:33.480Z"
   },
   {
    "duration": 15,
    "start_time": "2021-07-04T12:12:33.499Z"
   },
   {
    "duration": 48,
    "start_time": "2021-07-04T12:12:33.517Z"
   },
   {
    "duration": 11,
    "start_time": "2021-07-04T12:12:33.568Z"
   },
   {
    "duration": 33,
    "start_time": "2021-07-04T12:12:33.582Z"
   },
   {
    "duration": 10,
    "start_time": "2021-07-04T12:12:33.618Z"
   },
   {
    "duration": 408,
    "start_time": "2021-07-04T12:12:33.663Z"
   },
   {
    "duration": 18,
    "start_time": "2021-07-04T12:12:34.075Z"
   },
   {
    "duration": 237,
    "start_time": "2021-07-04T12:12:34.096Z"
   },
   {
    "duration": 27,
    "start_time": "2021-07-04T12:12:34.335Z"
   },
   {
    "duration": 10,
    "start_time": "2021-07-04T12:12:34.365Z"
   },
   {
    "duration": 18,
    "start_time": "2021-07-04T12:12:34.378Z"
   },
   {
    "duration": 7,
    "start_time": "2021-07-04T12:12:34.399Z"
   },
   {
    "duration": 42,
    "start_time": "2021-07-04T12:12:34.409Z"
   },
   {
    "duration": 15,
    "start_time": "2021-07-04T12:12:34.457Z"
   },
   {
    "duration": 292,
    "start_time": "2021-07-04T12:12:34.476Z"
   },
   {
    "duration": 277,
    "start_time": "2021-07-04T12:12:34.770Z"
   },
   {
    "duration": 263,
    "start_time": "2021-07-04T12:12:35.049Z"
   },
   {
    "duration": 7,
    "start_time": "2021-07-04T12:12:35.314Z"
   },
   {
    "duration": 803,
    "start_time": "2021-07-04T12:12:35.324Z"
   },
   {
    "duration": 29757,
    "start_time": "2021-07-04T12:12:06.374Z"
   },
   {
    "duration": 29754,
    "start_time": "2021-07-04T12:12:06.378Z"
   },
   {
    "duration": 29751,
    "start_time": "2021-07-04T12:12:06.382Z"
   },
   {
    "duration": 29747,
    "start_time": "2021-07-04T12:12:06.388Z"
   },
   {
    "duration": 29743,
    "start_time": "2021-07-04T12:12:06.393Z"
   },
   {
    "duration": 29741,
    "start_time": "2021-07-04T12:12:06.396Z"
   },
   {
    "duration": 29738,
    "start_time": "2021-07-04T12:12:06.400Z"
   },
   {
    "duration": 29729,
    "start_time": "2021-07-04T12:12:06.411Z"
   },
   {
    "duration": 29747,
    "start_time": "2021-07-04T12:12:06.415Z"
   },
   {
    "duration": 29746,
    "start_time": "2021-07-04T12:12:06.418Z"
   },
   {
    "duration": 29742,
    "start_time": "2021-07-04T12:12:06.423Z"
   },
   {
    "duration": 29740,
    "start_time": "2021-07-04T12:12:06.426Z"
   },
   {
    "duration": 29738,
    "start_time": "2021-07-04T12:12:06.430Z"
   },
   {
    "duration": 29736,
    "start_time": "2021-07-04T12:12:06.433Z"
   },
   {
    "duration": 29733,
    "start_time": "2021-07-04T12:12:06.437Z"
   },
   {
    "duration": 29730,
    "start_time": "2021-07-04T12:12:06.441Z"
   },
   {
    "duration": 29729,
    "start_time": "2021-07-04T12:12:06.444Z"
   },
   {
    "duration": 29726,
    "start_time": "2021-07-04T12:12:06.448Z"
   },
   {
    "duration": 29724,
    "start_time": "2021-07-04T12:12:06.451Z"
   },
   {
    "duration": 29716,
    "start_time": "2021-07-04T12:12:06.461Z"
   },
   {
    "duration": 29713,
    "start_time": "2021-07-04T12:12:06.465Z"
   },
   {
    "duration": 29711,
    "start_time": "2021-07-04T12:12:06.468Z"
   },
   {
    "duration": 29709,
    "start_time": "2021-07-04T12:12:06.472Z"
   },
   {
    "duration": 29706,
    "start_time": "2021-07-04T12:12:06.476Z"
   },
   {
    "duration": 29702,
    "start_time": "2021-07-04T12:12:06.481Z"
   },
   {
    "duration": 29685,
    "start_time": "2021-07-04T12:12:06.499Z"
   },
   {
    "duration": 29673,
    "start_time": "2021-07-04T12:12:06.512Z"
   },
   {
    "duration": 29663,
    "start_time": "2021-07-04T12:12:06.524Z"
   },
   {
    "duration": 29659,
    "start_time": "2021-07-04T12:12:06.529Z"
   },
   {
    "duration": 29627,
    "start_time": "2021-07-04T12:12:06.562Z"
   },
   {
    "duration": 29625,
    "start_time": "2021-07-04T12:12:06.565Z"
   },
   {
    "duration": 29622,
    "start_time": "2021-07-04T12:12:06.569Z"
   },
   {
    "duration": 29620,
    "start_time": "2021-07-04T12:12:06.573Z"
   },
   {
    "duration": 29618,
    "start_time": "2021-07-04T12:12:06.576Z"
   },
   {
    "duration": 29615,
    "start_time": "2021-07-04T12:12:06.580Z"
   },
   {
    "duration": 29613,
    "start_time": "2021-07-04T12:12:06.583Z"
   },
   {
    "duration": 29611,
    "start_time": "2021-07-04T12:12:06.587Z"
   },
   {
    "duration": 29608,
    "start_time": "2021-07-04T12:12:06.591Z"
   },
   {
    "duration": 29656,
    "start_time": "2021-07-04T12:12:06.611Z"
   },
   {
    "duration": 29655,
    "start_time": "2021-07-04T12:12:06.614Z"
   },
   {
    "duration": 29652,
    "start_time": "2021-07-04T12:12:06.619Z"
   },
   {
    "duration": 29651,
    "start_time": "2021-07-04T12:12:06.622Z"
   },
   {
    "duration": 29649,
    "start_time": "2021-07-04T12:12:06.626Z"
   },
   {
    "duration": 29647,
    "start_time": "2021-07-04T12:12:06.630Z"
   },
   {
    "duration": 9,
    "start_time": "2021-07-04T12:12:51.882Z"
   },
   {
    "duration": 9,
    "start_time": "2021-07-04T12:12:52.471Z"
   },
   {
    "duration": 10,
    "start_time": "2021-07-04T12:12:54.313Z"
   },
   {
    "duration": 401,
    "start_time": "2021-07-04T12:12:55.263Z"
   },
   {
    "duration": 12,
    "start_time": "2021-07-04T12:12:58.472Z"
   },
   {
    "duration": 109,
    "start_time": "2021-07-04T12:12:58.903Z"
   },
   {
    "duration": 4,
    "start_time": "2021-07-04T12:12:59.359Z"
   },
   {
    "duration": 11,
    "start_time": "2021-07-04T12:12:59.751Z"
   },
   {
    "duration": 278,
    "start_time": "2021-07-04T12:13:00.095Z"
   },
   {
    "duration": 7,
    "start_time": "2021-07-04T12:13:01.359Z"
   },
   {
    "duration": 15,
    "start_time": "2021-07-04T12:13:02.648Z"
   },
   {
    "duration": 193,
    "start_time": "2021-07-04T12:13:02.846Z"
   },
   {
    "duration": 7,
    "start_time": "2021-07-04T12:13:03.518Z"
   },
   {
    "duration": 11,
    "start_time": "2021-07-04T12:13:04.350Z"
   },
   {
    "duration": 6,
    "start_time": "2021-07-04T12:13:04.759Z"
   },
   {
    "duration": 69,
    "start_time": "2021-07-04T12:13:04.991Z"
   },
   {
    "duration": 15,
    "start_time": "2021-07-04T12:13:05.224Z"
   },
   {
    "duration": 9,
    "start_time": "2021-07-04T12:13:05.433Z"
   },
   {
    "duration": 101,
    "start_time": "2021-07-04T12:13:05.631Z"
   },
   {
    "duration": 12,
    "start_time": "2021-07-04T12:13:06.094Z"
   },
   {
    "duration": 18,
    "start_time": "2021-07-04T12:13:06.303Z"
   },
   {
    "duration": 10,
    "start_time": "2021-07-04T12:13:06.495Z"
   },
   {
    "duration": 83,
    "start_time": "2021-07-04T12:13:06.687Z"
   },
   {
    "duration": 16,
    "start_time": "2021-07-04T12:13:06.879Z"
   },
   {
    "duration": 23,
    "start_time": "2021-07-04T12:13:07.071Z"
   },
   {
    "duration": 15,
    "start_time": "2021-07-04T12:13:07.263Z"
   },
   {
    "duration": 81,
    "start_time": "2021-07-04T12:13:07.463Z"
   },
   {
    "duration": 15,
    "start_time": "2021-07-04T12:13:07.687Z"
   },
   {
    "duration": 49,
    "start_time": "2021-07-04T12:13:08.159Z"
   },
   {
    "duration": 27,
    "start_time": "2021-07-04T12:13:08.367Z"
   },
   {
    "duration": 183,
    "start_time": "2021-07-04T12:13:08.776Z"
   },
   {
    "duration": 13,
    "start_time": "2021-07-04T12:13:08.991Z"
   },
   {
    "duration": 12,
    "start_time": "2021-07-04T12:13:09.431Z"
   },
   {
    "duration": 5,
    "start_time": "2021-07-04T12:13:09.895Z"
   },
   {
    "duration": 9,
    "start_time": "2021-07-04T12:13:10.129Z"
   },
   {
    "duration": 6,
    "start_time": "2021-07-04T12:13:11.359Z"
   },
   {
    "duration": 10,
    "start_time": "2021-07-04T12:13:12.267Z"
   },
   {
    "duration": 12,
    "start_time": "2021-07-04T12:13:12.535Z"
   },
   {
    "duration": 12,
    "start_time": "2021-07-04T12:13:13.784Z"
   },
   {
    "duration": 18,
    "start_time": "2021-07-04T12:13:14.695Z"
   },
   {
    "duration": 8,
    "start_time": "2021-07-04T12:13:14.895Z"
   },
   {
    "duration": 12,
    "start_time": "2021-07-04T12:13:15.591Z"
   },
   {
    "duration": 9,
    "start_time": "2021-07-04T12:13:16.295Z"
   },
   {
    "duration": 18,
    "start_time": "2021-07-04T12:13:17.368Z"
   },
   {
    "duration": 1503,
    "start_time": "2021-07-06T18:59:07.452Z"
   },
   {
    "duration": 311,
    "start_time": "2021-07-06T18:59:08.958Z"
   },
   {
    "duration": 7,
    "start_time": "2021-07-06T18:59:09.272Z"
   },
   {
    "duration": 20,
    "start_time": "2021-07-06T18:59:09.282Z"
   },
   {
    "duration": 5,
    "start_time": "2021-07-06T18:59:09.305Z"
   },
   {
    "duration": 13,
    "start_time": "2021-07-06T18:59:09.313Z"
   },
   {
    "duration": 13,
    "start_time": "2021-07-06T18:59:09.329Z"
   },
   {
    "duration": 18,
    "start_time": "2021-07-06T18:59:09.370Z"
   },
   {
    "duration": 574,
    "start_time": "2021-07-06T18:59:09.393Z"
   },
   {
    "duration": 12,
    "start_time": "2021-07-06T18:59:09.969Z"
   },
   {
    "duration": 12,
    "start_time": "2021-07-06T18:59:09.984Z"
   },
   {
    "duration": 12,
    "start_time": "2021-07-06T18:59:09.999Z"
   },
   {
    "duration": 53,
    "start_time": "2021-07-06T18:59:10.014Z"
   },
   {
    "duration": 9,
    "start_time": "2021-07-06T18:59:10.071Z"
   },
   {
    "duration": 31,
    "start_time": "2021-07-06T18:59:10.083Z"
   },
   {
    "duration": 12,
    "start_time": "2021-07-06T18:59:10.117Z"
   },
   {
    "duration": 42,
    "start_time": "2021-07-06T18:59:10.132Z"
   },
   {
    "duration": 7,
    "start_time": "2021-07-06T18:59:10.177Z"
   },
   {
    "duration": 19,
    "start_time": "2021-07-06T18:59:10.187Z"
   },
   {
    "duration": 6,
    "start_time": "2021-07-06T18:59:10.209Z"
   },
   {
    "duration": 54,
    "start_time": "2021-07-06T18:59:10.218Z"
   },
   {
    "duration": 369,
    "start_time": "2021-07-06T18:59:10.275Z"
   },
   {
    "duration": 18,
    "start_time": "2021-07-06T18:59:10.651Z"
   },
   {
    "duration": 298,
    "start_time": "2021-07-06T18:59:10.675Z"
   },
   {
    "duration": 14,
    "start_time": "2021-07-06T18:59:10.975Z"
   },
   {
    "duration": 10,
    "start_time": "2021-07-06T18:59:10.992Z"
   },
   {
    "duration": 16,
    "start_time": "2021-07-06T18:59:11.005Z"
   },
   {
    "duration": 43,
    "start_time": "2021-07-06T18:59:11.024Z"
   },
   {
    "duration": 15,
    "start_time": "2021-07-06T18:59:11.071Z"
   },
   {
    "duration": 16,
    "start_time": "2021-07-06T18:59:11.089Z"
   },
   {
    "duration": 563,
    "start_time": "2021-07-06T18:59:11.108Z"
   },
   {
    "duration": 455,
    "start_time": "2021-07-06T18:59:11.673Z"
   },
   {
    "duration": 621,
    "start_time": "2021-07-06T18:59:12.131Z"
   },
   {
    "duration": 17,
    "start_time": "2021-07-06T18:59:12.755Z"
   },
   {
    "duration": 424,
    "start_time": "2021-07-06T18:59:12.775Z"
   },
   {
    "duration": 8,
    "start_time": "2021-07-06T18:59:13.201Z"
   },
   {
    "duration": 13,
    "start_time": "2021-07-06T18:59:13.213Z"
   },
   {
    "duration": 48,
    "start_time": "2021-07-06T18:59:13.229Z"
   },
   {
    "duration": 630,
    "start_time": "2021-07-06T18:59:13.281Z"
   },
   {
    "duration": 13,
    "start_time": "2021-07-06T18:59:13.914Z"
   },
   {
    "duration": 192,
    "start_time": "2021-07-06T18:59:13.931Z"
   },
   {
    "duration": 5,
    "start_time": "2021-07-06T18:59:14.126Z"
   },
   {
    "duration": 33,
    "start_time": "2021-07-06T18:59:14.134Z"
   },
   {
    "duration": 560,
    "start_time": "2021-07-06T18:59:14.170Z"
   },
   {
    "duration": 5,
    "start_time": "2021-07-06T18:59:14.733Z"
   },
   {
    "duration": 29,
    "start_time": "2021-07-06T18:59:14.741Z"
   },
   {
    "duration": 470,
    "start_time": "2021-07-06T18:59:14.773Z"
   },
   {
    "duration": 7,
    "start_time": "2021-07-06T18:59:15.245Z"
   },
   {
    "duration": 23,
    "start_time": "2021-07-06T18:59:15.254Z"
   },
   {
    "duration": 9,
    "start_time": "2021-07-06T18:59:15.281Z"
   },
   {
    "duration": 130,
    "start_time": "2021-07-06T18:59:15.292Z"
   },
   {
    "duration": 13,
    "start_time": "2021-07-06T18:59:15.425Z"
   },
   {
    "duration": 26,
    "start_time": "2021-07-06T18:59:15.441Z"
   },
   {
    "duration": 123,
    "start_time": "2021-07-06T18:59:15.470Z"
   },
   {
    "duration": 20,
    "start_time": "2021-07-06T18:59:15.597Z"
   },
   {
    "duration": 52,
    "start_time": "2021-07-06T18:59:15.621Z"
   },
   {
    "duration": 11,
    "start_time": "2021-07-06T18:59:15.676Z"
   },
   {
    "duration": 126,
    "start_time": "2021-07-06T18:59:15.689Z"
   },
   {
    "duration": 12,
    "start_time": "2021-07-06T18:59:15.817Z"
   },
   {
    "duration": 47,
    "start_time": "2021-07-06T18:59:15.832Z"
   },
   {
    "duration": 12,
    "start_time": "2021-07-06T18:59:15.881Z"
   },
   {
    "duration": 129,
    "start_time": "2021-07-06T18:59:15.896Z"
   },
   {
    "duration": 19,
    "start_time": "2021-07-06T18:59:16.028Z"
   },
   {
    "duration": 53,
    "start_time": "2021-07-06T18:59:16.050Z"
   },
   {
    "duration": 17,
    "start_time": "2021-07-06T18:59:16.106Z"
   },
   {
    "duration": 239,
    "start_time": "2021-07-06T18:59:16.126Z"
   },
   {
    "duration": 10,
    "start_time": "2021-07-06T18:59:16.367Z"
   },
   {
    "duration": 11,
    "start_time": "2021-07-06T18:59:16.385Z"
   },
   {
    "duration": 11,
    "start_time": "2021-07-06T18:59:16.399Z"
   },
   {
    "duration": 53,
    "start_time": "2021-07-06T18:59:16.414Z"
   },
   {
    "duration": 6,
    "start_time": "2021-07-06T18:59:16.470Z"
   },
   {
    "duration": 15,
    "start_time": "2021-07-06T18:59:16.479Z"
   },
   {
    "duration": 10,
    "start_time": "2021-07-06T18:59:16.497Z"
   },
   {
    "duration": 56,
    "start_time": "2021-07-06T18:59:16.511Z"
   },
   {
    "duration": 9,
    "start_time": "2021-07-06T18:59:16.571Z"
   },
   {
    "duration": 12,
    "start_time": "2021-07-06T18:59:16.583Z"
   },
   {
    "duration": 18,
    "start_time": "2021-07-06T18:59:16.599Z"
   },
   {
    "duration": 51,
    "start_time": "2021-07-06T18:59:16.621Z"
   },
   {
    "duration": 34,
    "start_time": "2021-07-06T18:59:16.675Z"
   },
   {
    "duration": 1547,
    "start_time": "2021-07-07T09:14:35.382Z"
   },
   {
    "duration": 290,
    "start_time": "2021-07-07T09:14:36.932Z"
   },
   {
    "duration": 4,
    "start_time": "2021-07-07T09:14:37.225Z"
   },
   {
    "duration": 20,
    "start_time": "2021-07-07T09:14:37.232Z"
   },
   {
    "duration": 7,
    "start_time": "2021-07-07T09:14:37.254Z"
   },
   {
    "duration": 10,
    "start_time": "2021-07-07T09:14:37.263Z"
   },
   {
    "duration": 28,
    "start_time": "2021-07-07T09:14:37.275Z"
   },
   {
    "duration": 16,
    "start_time": "2021-07-07T09:14:37.307Z"
   },
   {
    "duration": 538,
    "start_time": "2021-07-07T09:14:37.326Z"
   },
   {
    "duration": 12,
    "start_time": "2021-07-07T09:14:37.866Z"
   },
   {
    "duration": 23,
    "start_time": "2021-07-07T09:14:37.880Z"
   },
   {
    "duration": 12,
    "start_time": "2021-07-07T09:14:37.906Z"
   },
   {
    "duration": 9,
    "start_time": "2021-07-07T09:14:37.920Z"
   },
   {
    "duration": 8,
    "start_time": "2021-07-07T09:14:37.931Z"
   },
   {
    "duration": 59,
    "start_time": "2021-07-07T09:14:37.941Z"
   },
   {
    "duration": 8,
    "start_time": "2021-07-07T09:14:38.003Z"
   },
   {
    "duration": 9,
    "start_time": "2021-07-07T09:14:38.013Z"
   },
   {
    "duration": 6,
    "start_time": "2021-07-07T09:14:38.025Z"
   },
   {
    "duration": 30,
    "start_time": "2021-07-07T09:14:38.033Z"
   },
   {
    "duration": 6,
    "start_time": "2021-07-07T09:14:38.065Z"
   },
   {
    "duration": 9,
    "start_time": "2021-07-07T09:14:38.101Z"
   },
   {
    "duration": 361,
    "start_time": "2021-07-07T09:14:38.112Z"
   },
   {
    "duration": 11,
    "start_time": "2021-07-07T09:14:38.479Z"
   },
   {
    "duration": 288,
    "start_time": "2021-07-07T09:14:38.502Z"
   },
   {
    "duration": 15,
    "start_time": "2021-07-07T09:14:38.792Z"
   },
   {
    "duration": 10,
    "start_time": "2021-07-07T09:14:38.809Z"
   },
   {
    "duration": 15,
    "start_time": "2021-07-07T09:14:38.821Z"
   },
   {
    "duration": 6,
    "start_time": "2021-07-07T09:14:38.838Z"
   },
   {
    "duration": 13,
    "start_time": "2021-07-07T09:14:38.847Z"
   },
   {
    "duration": 44,
    "start_time": "2021-07-07T09:14:38.863Z"
   },
   {
    "duration": 440,
    "start_time": "2021-07-07T09:14:38.910Z"
   },
   {
    "duration": 440,
    "start_time": "2021-07-07T09:14:39.353Z"
   },
   {
    "duration": 436,
    "start_time": "2021-07-07T09:14:39.796Z"
   },
   {
    "duration": 8,
    "start_time": "2021-07-07T09:14:40.234Z"
   },
   {
    "duration": 402,
    "start_time": "2021-07-07T09:14:40.245Z"
   },
   {
    "duration": 8,
    "start_time": "2021-07-07T09:14:40.649Z"
   },
   {
    "duration": 14,
    "start_time": "2021-07-07T09:14:40.659Z"
   },
   {
    "duration": 28,
    "start_time": "2021-07-07T09:14:40.676Z"
   },
   {
    "duration": 461,
    "start_time": "2021-07-07T09:14:40.707Z"
   },
   {
    "duration": 12,
    "start_time": "2021-07-07T09:14:41.170Z"
   },
   {
    "duration": 480,
    "start_time": "2021-07-07T09:14:41.186Z"
   },
   {
    "duration": 6,
    "start_time": "2021-07-07T09:14:41.670Z"
   },
   {
    "duration": 35,
    "start_time": "2021-07-07T09:14:41.680Z"
   },
   {
    "duration": 741,
    "start_time": "2021-07-07T09:14:41.719Z"
   },
   {
    "duration": 6,
    "start_time": "2021-07-07T09:14:42.464Z"
   },
   {
    "duration": 36,
    "start_time": "2021-07-07T09:14:42.472Z"
   },
   {
    "duration": 463,
    "start_time": "2021-07-07T09:14:42.511Z"
   },
   {
    "duration": 7,
    "start_time": "2021-07-07T09:14:42.977Z"
   },
   {
    "duration": 13,
    "start_time": "2021-07-07T09:14:43.001Z"
   },
   {
    "duration": 10,
    "start_time": "2021-07-07T09:14:43.017Z"
   },
   {
    "duration": 126,
    "start_time": "2021-07-07T09:14:43.029Z"
   },
   {
    "duration": 13,
    "start_time": "2021-07-07T09:14:43.158Z"
   },
   {
    "duration": 26,
    "start_time": "2021-07-07T09:14:43.174Z"
   },
   {
    "duration": 105,
    "start_time": "2021-07-07T09:14:43.203Z"
   },
   {
    "duration": 24,
    "start_time": "2021-07-07T09:14:43.311Z"
   },
   {
    "duration": 32,
    "start_time": "2021-07-07T09:14:43.337Z"
   },
   {
    "duration": 24,
    "start_time": "2021-07-07T09:14:43.371Z"
   },
   {
    "duration": 110,
    "start_time": "2021-07-07T09:14:43.398Z"
   },
   {
    "duration": 13,
    "start_time": "2021-07-07T09:14:43.511Z"
   },
   {
    "duration": 47,
    "start_time": "2021-07-07T09:14:43.528Z"
   },
   {
    "duration": 37,
    "start_time": "2021-07-07T09:14:43.579Z"
   },
   {
    "duration": 232,
    "start_time": "2021-07-07T09:14:43.620Z"
   },
   {
    "duration": 19,
    "start_time": "2021-07-07T09:14:43.856Z"
   },
   {
    "duration": 90,
    "start_time": "2021-07-07T09:14:43.879Z"
   },
   {
    "duration": 33,
    "start_time": "2021-07-07T09:14:43.972Z"
   },
   {
    "duration": 215,
    "start_time": "2021-07-07T09:14:44.008Z"
   },
   {
    "duration": 10,
    "start_time": "2021-07-07T09:14:44.226Z"
   },
   {
    "duration": 8,
    "start_time": "2021-07-07T09:14:44.243Z"
   },
   {
    "duration": 4,
    "start_time": "2021-07-07T09:14:44.254Z"
   },
   {
    "duration": 45,
    "start_time": "2021-07-07T09:14:44.260Z"
   },
   {
    "duration": 6,
    "start_time": "2021-07-07T09:14:44.308Z"
   },
   {
    "duration": 10,
    "start_time": "2021-07-07T09:14:44.317Z"
   },
   {
    "duration": 10,
    "start_time": "2021-07-07T09:14:44.329Z"
   },
   {
    "duration": 8,
    "start_time": "2021-07-07T09:14:44.342Z"
   },
   {
    "duration": 53,
    "start_time": "2021-07-07T09:14:44.353Z"
   },
   {
    "duration": 11,
    "start_time": "2021-07-07T09:14:44.408Z"
   },
   {
    "duration": 12,
    "start_time": "2021-07-07T09:14:44.421Z"
   },
   {
    "duration": 10,
    "start_time": "2021-07-07T09:14:44.436Z"
   },
   {
    "duration": 59,
    "start_time": "2021-07-07T09:14:44.449Z"
   },
   {
    "duration": 982,
    "start_time": "2021-07-07T21:46:52.461Z"
   },
   {
    "duration": 268,
    "start_time": "2021-07-07T21:46:53.445Z"
   },
   {
    "duration": 3,
    "start_time": "2021-07-07T21:46:53.715Z"
   },
   {
    "duration": 16,
    "start_time": "2021-07-07T21:46:53.719Z"
   },
   {
    "duration": 4,
    "start_time": "2021-07-07T21:46:53.737Z"
   },
   {
    "duration": 10,
    "start_time": "2021-07-07T21:46:53.742Z"
   },
   {
    "duration": 8,
    "start_time": "2021-07-07T21:46:53.753Z"
   },
   {
    "duration": 9,
    "start_time": "2021-07-07T21:46:53.764Z"
   },
   {
    "duration": 358,
    "start_time": "2021-07-07T21:46:53.775Z"
   },
   {
    "duration": 12,
    "start_time": "2021-07-07T21:46:54.134Z"
   },
   {
    "duration": 8,
    "start_time": "2021-07-07T21:46:54.147Z"
   },
   {
    "duration": 8,
    "start_time": "2021-07-07T21:46:54.156Z"
   },
   {
    "duration": 8,
    "start_time": "2021-07-07T21:46:54.165Z"
   },
   {
    "duration": 8,
    "start_time": "2021-07-07T21:46:54.174Z"
   },
   {
    "duration": 17,
    "start_time": "2021-07-07T21:46:54.183Z"
   },
   {
    "duration": 7,
    "start_time": "2021-07-07T21:46:54.202Z"
   },
   {
    "duration": 10,
    "start_time": "2021-07-07T21:46:54.210Z"
   },
   {
    "duration": 20,
    "start_time": "2021-07-07T21:46:54.221Z"
   },
   {
    "duration": 4,
    "start_time": "2021-07-07T21:46:54.242Z"
   },
   {
    "duration": 9,
    "start_time": "2021-07-07T21:46:54.247Z"
   },
   {
    "duration": 18,
    "start_time": "2021-07-07T21:46:54.258Z"
   },
   {
    "duration": 11,
    "start_time": "2021-07-07T21:46:54.277Z"
   },
   {
    "duration": 202,
    "start_time": "2021-07-07T21:46:54.292Z"
   },
   {
    "duration": 8,
    "start_time": "2021-07-07T21:46:54.496Z"
   },
   {
    "duration": 152,
    "start_time": "2021-07-07T21:46:54.505Z"
   },
   {
    "duration": 6,
    "start_time": "2021-07-07T21:46:54.658Z"
   },
   {
    "duration": 23,
    "start_time": "2021-07-07T21:46:54.666Z"
   },
   {
    "duration": 14,
    "start_time": "2021-07-07T21:46:54.691Z"
   },
   {
    "duration": 2,
    "start_time": "2021-07-07T21:46:54.707Z"
   },
   {
    "duration": 7,
    "start_time": "2021-07-07T21:46:54.711Z"
   },
   {
    "duration": 8,
    "start_time": "2021-07-07T21:46:54.719Z"
   },
   {
    "duration": 237,
    "start_time": "2021-07-07T21:46:54.728Z"
   },
   {
    "duration": 235,
    "start_time": "2021-07-07T21:46:54.967Z"
   },
   {
    "duration": 231,
    "start_time": "2021-07-07T21:46:55.203Z"
   },
   {
    "duration": 6,
    "start_time": "2021-07-07T21:46:55.436Z"
   },
   {
    "duration": 222,
    "start_time": "2021-07-07T21:46:55.444Z"
   },
   {
    "duration": 5,
    "start_time": "2021-07-07T21:46:55.668Z"
   },
   {
    "duration": 7,
    "start_time": "2021-07-07T21:46:55.675Z"
   },
   {
    "duration": 9,
    "start_time": "2021-07-07T21:46:55.683Z"
   },
   {
    "duration": 294,
    "start_time": "2021-07-07T21:46:55.694Z"
   },
   {
    "duration": 8,
    "start_time": "2021-07-07T21:46:55.990Z"
   },
   {
    "duration": 98,
    "start_time": "2021-07-07T21:46:56.000Z"
   },
   {
    "duration": 3,
    "start_time": "2021-07-07T21:46:56.100Z"
   },
   {
    "duration": 9,
    "start_time": "2021-07-07T21:46:56.105Z"
   },
   {
    "duration": 337,
    "start_time": "2021-07-07T21:46:56.116Z"
   },
   {
    "duration": 4,
    "start_time": "2021-07-07T21:46:56.455Z"
   },
   {
    "duration": 10,
    "start_time": "2021-07-07T21:46:56.461Z"
   },
   {
    "duration": 302,
    "start_time": "2021-07-07T21:46:56.472Z"
   },
   {
    "duration": 4,
    "start_time": "2021-07-07T21:46:56.776Z"
   },
   {
    "duration": 9,
    "start_time": "2021-07-07T21:46:56.781Z"
   },
   {
    "duration": 6,
    "start_time": "2021-07-07T21:46:56.791Z"
   },
   {
    "duration": 69,
    "start_time": "2021-07-07T21:46:56.799Z"
   },
   {
    "duration": 9,
    "start_time": "2021-07-07T21:46:56.869Z"
   },
   {
    "duration": 4,
    "start_time": "2021-07-07T21:46:56.880Z"
   },
   {
    "duration": 65,
    "start_time": "2021-07-07T21:46:56.885Z"
   },
   {
    "duration": 13,
    "start_time": "2021-07-07T21:46:56.952Z"
   },
   {
    "duration": 12,
    "start_time": "2021-07-07T21:46:56.966Z"
   },
   {
    "duration": 6,
    "start_time": "2021-07-07T21:46:56.980Z"
   },
   {
    "duration": 71,
    "start_time": "2021-07-07T21:46:56.988Z"
   },
   {
    "duration": 9,
    "start_time": "2021-07-07T21:46:57.060Z"
   },
   {
    "duration": 12,
    "start_time": "2021-07-07T21:46:57.070Z"
   },
   {
    "duration": 8,
    "start_time": "2021-07-07T21:46:57.083Z"
   },
   {
    "duration": 64,
    "start_time": "2021-07-07T21:46:57.092Z"
   },
   {
    "duration": 9,
    "start_time": "2021-07-07T21:46:57.158Z"
   },
   {
    "duration": 18,
    "start_time": "2021-07-07T21:46:57.169Z"
   },
   {
    "duration": 9,
    "start_time": "2021-07-07T21:46:57.188Z"
   },
   {
    "duration": 107,
    "start_time": "2021-07-07T21:46:57.199Z"
   },
   {
    "duration": 6,
    "start_time": "2021-07-07T21:46:57.311Z"
   },
   {
    "duration": 22,
    "start_time": "2021-07-07T21:46:57.318Z"
   },
   {
    "duration": 2,
    "start_time": "2021-07-07T21:46:57.342Z"
   },
   {
    "duration": 8,
    "start_time": "2021-07-07T21:46:57.346Z"
   },
   {
    "duration": 3,
    "start_time": "2021-07-07T21:46:57.356Z"
   },
   {
    "duration": 7,
    "start_time": "2021-07-07T21:46:57.361Z"
   },
   {
    "duration": 6,
    "start_time": "2021-07-07T21:46:57.370Z"
   },
   {
    "duration": 6,
    "start_time": "2021-07-07T21:46:57.377Z"
   },
   {
    "duration": 9,
    "start_time": "2021-07-07T21:46:57.384Z"
   },
   {
    "duration": 5,
    "start_time": "2021-07-07T21:46:57.395Z"
   },
   {
    "duration": 7,
    "start_time": "2021-07-07T21:46:57.401Z"
   },
   {
    "duration": 34,
    "start_time": "2021-07-07T21:46:57.410Z"
   },
   {
    "duration": 11,
    "start_time": "2021-07-07T21:46:57.446Z"
   },
   {
    "duration": 1581,
    "start_time": "2021-07-08T08:42:45.823Z"
   },
   {
    "duration": 1484,
    "start_time": "2021-07-08T08:42:47.407Z"
   },
   {
    "duration": 4,
    "start_time": "2021-07-08T08:42:48.893Z"
   },
   {
    "duration": 17,
    "start_time": "2021-07-08T08:42:48.905Z"
   },
   {
    "duration": 4,
    "start_time": "2021-07-08T08:42:48.925Z"
   },
   {
    "duration": 13,
    "start_time": "2021-07-08T08:42:48.931Z"
   },
   {
    "duration": 36,
    "start_time": "2021-07-08T08:42:48.947Z"
   },
   {
    "duration": 16,
    "start_time": "2021-07-08T08:42:48.987Z"
   },
   {
    "duration": 507,
    "start_time": "2021-07-08T08:42:49.006Z"
   },
   {
    "duration": 11,
    "start_time": "2021-07-08T08:42:49.516Z"
   },
   {
    "duration": 11,
    "start_time": "2021-07-08T08:42:49.529Z"
   },
   {
    "duration": 12,
    "start_time": "2021-07-08T08:42:49.556Z"
   },
   {
    "duration": 9,
    "start_time": "2021-07-08T08:42:49.570Z"
   },
   {
    "duration": 8,
    "start_time": "2021-07-08T08:42:49.581Z"
   },
   {
    "duration": 21,
    "start_time": "2021-07-08T08:42:49.591Z"
   },
   {
    "duration": 46,
    "start_time": "2021-07-08T08:42:49.615Z"
   },
   {
    "duration": 12,
    "start_time": "2021-07-08T08:42:49.665Z"
   },
   {
    "duration": 7,
    "start_time": "2021-07-08T08:42:49.679Z"
   },
   {
    "duration": 8,
    "start_time": "2021-07-08T08:42:49.688Z"
   },
   {
    "duration": 7,
    "start_time": "2021-07-08T08:42:49.698Z"
   },
   {
    "duration": 10,
    "start_time": "2021-07-08T08:42:49.707Z"
   },
   {
    "duration": 46,
    "start_time": "2021-07-08T08:42:49.719Z"
   },
   {
    "duration": 366,
    "start_time": "2021-07-08T08:42:49.775Z"
   },
   {
    "duration": 23,
    "start_time": "2021-07-08T08:42:50.145Z"
   },
   {
    "duration": 287,
    "start_time": "2021-07-08T08:42:50.170Z"
   },
   {
    "duration": 12,
    "start_time": "2021-07-08T08:42:50.460Z"
   },
   {
    "duration": 15,
    "start_time": "2021-07-08T08:42:50.475Z"
   },
   {
    "duration": 17,
    "start_time": "2021-07-08T08:42:50.493Z"
   },
   {
    "duration": 6,
    "start_time": "2021-07-08T08:42:50.513Z"
   },
   {
    "duration": 15,
    "start_time": "2021-07-08T08:42:50.556Z"
   },
   {
    "duration": 12,
    "start_time": "2021-07-08T08:42:50.573Z"
   },
   {
    "duration": 456,
    "start_time": "2021-07-08T08:42:50.587Z"
   },
   {
    "duration": 438,
    "start_time": "2021-07-08T08:42:51.046Z"
   },
   {
    "duration": 442,
    "start_time": "2021-07-08T08:42:51.487Z"
   },
   {
    "duration": 10,
    "start_time": "2021-07-08T08:42:51.932Z"
   },
   {
    "duration": 427,
    "start_time": "2021-07-08T08:42:51.957Z"
   },
   {
    "duration": 8,
    "start_time": "2021-07-08T08:42:52.387Z"
   },
   {
    "duration": 9,
    "start_time": "2021-07-08T08:42:52.398Z"
   },
   {
    "duration": 51,
    "start_time": "2021-07-08T08:42:52.410Z"
   },
   {
    "duration": 476,
    "start_time": "2021-07-08T08:42:52.464Z"
   },
   {
    "duration": 29,
    "start_time": "2021-07-08T08:42:52.943Z"
   },
   {
    "duration": 194,
    "start_time": "2021-07-08T08:42:52.974Z"
   },
   {
    "duration": 4,
    "start_time": "2021-07-08T08:42:53.171Z"
   },
   {
    "duration": 15,
    "start_time": "2021-07-08T08:42:53.177Z"
   },
   {
    "duration": 414,
    "start_time": "2021-07-08T08:42:53.195Z"
   },
   {
    "duration": 5,
    "start_time": "2021-07-08T08:42:53.611Z"
   },
   {
    "duration": 36,
    "start_time": "2021-07-08T08:42:53.619Z"
   },
   {
    "duration": 558,
    "start_time": "2021-07-08T08:42:53.657Z"
   },
   {
    "duration": 6,
    "start_time": "2021-07-08T08:42:54.218Z"
   },
   {
    "duration": 30,
    "start_time": "2021-07-08T08:42:54.227Z"
   },
   {
    "duration": 8,
    "start_time": "2021-07-08T08:42:54.261Z"
   },
   {
    "duration": 119,
    "start_time": "2021-07-08T08:42:54.276Z"
   },
   {
    "duration": 13,
    "start_time": "2021-07-08T08:42:54.398Z"
   },
   {
    "duration": 7,
    "start_time": "2021-07-08T08:42:54.413Z"
   },
   {
    "duration": 120,
    "start_time": "2021-07-08T08:42:54.422Z"
   },
   {
    "duration": 28,
    "start_time": "2021-07-08T08:42:54.544Z"
   },
   {
    "duration": 25,
    "start_time": "2021-07-08T08:42:54.575Z"
   },
   {
    "duration": 10,
    "start_time": "2021-07-08T08:42:54.602Z"
   },
   {
    "duration": 143,
    "start_time": "2021-07-08T08:42:54.615Z"
   },
   {
    "duration": 14,
    "start_time": "2021-07-08T08:42:54.760Z"
   },
   {
    "duration": 25,
    "start_time": "2021-07-08T08:42:54.779Z"
   },
   {
    "duration": 11,
    "start_time": "2021-07-08T08:42:54.806Z"
   },
   {
    "duration": 179,
    "start_time": "2021-07-08T08:42:54.820Z"
   },
   {
    "duration": 21,
    "start_time": "2021-07-08T08:42:55.002Z"
   },
   {
    "duration": 64,
    "start_time": "2021-07-08T08:42:55.026Z"
   },
   {
    "duration": 23,
    "start_time": "2021-07-08T08:42:55.093Z"
   },
   {
    "duration": 319,
    "start_time": "2021-07-08T08:42:55.119Z"
   },
   {
    "duration": 12,
    "start_time": "2021-07-08T08:42:55.456Z"
   },
   {
    "duration": 23,
    "start_time": "2021-07-08T08:42:55.472Z"
   },
   {
    "duration": 3,
    "start_time": "2021-07-08T08:42:55.498Z"
   },
   {
    "duration": 12,
    "start_time": "2021-07-08T08:42:55.503Z"
   },
   {
    "duration": 8,
    "start_time": "2021-07-08T08:42:55.517Z"
   },
   {
    "duration": 43,
    "start_time": "2021-07-08T08:42:55.528Z"
   },
   {
    "duration": 12,
    "start_time": "2021-07-08T08:42:55.576Z"
   },
   {
    "duration": 13,
    "start_time": "2021-07-08T08:42:55.590Z"
   },
   {
    "duration": 25,
    "start_time": "2021-07-08T08:42:55.605Z"
   },
   {
    "duration": 10,
    "start_time": "2021-07-08T08:42:55.632Z"
   },
   {
    "duration": 28,
    "start_time": "2021-07-08T08:42:55.644Z"
   },
   {
    "duration": 16,
    "start_time": "2021-07-08T08:42:55.674Z"
   },
   {
    "duration": 27,
    "start_time": "2021-07-08T08:42:55.693Z"
   }
  ],
  "kernelspec": {
   "display_name": "Python 3",
   "language": "python",
   "name": "python3"
  },
  "language_info": {
   "codemirror_mode": {
    "name": "ipython",
    "version": 3
   },
   "file_extension": ".py",
   "mimetype": "text/x-python",
   "name": "python",
   "nbconvert_exporter": "python",
   "pygments_lexer": "ipython3",
   "version": "3.8.5"
  },
  "toc": {
   "base_numbering": 1,
   "nav_menu": {},
   "number_sections": true,
   "sideBar": true,
   "skip_h1_title": true,
   "title_cell": "Table of Contents",
   "title_sidebar": "Contents",
   "toc_cell": false,
   "toc_position": {},
   "toc_section_display": true,
   "toc_window_display": false
  }
 },
 "nbformat": 4,
 "nbformat_minor": 4
}
